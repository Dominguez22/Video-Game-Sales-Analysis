{
 "cells": [
  {
   "cell_type": "markdown",
   "metadata": {
    "tags": [
     "e5c1f0c2-db9f-43a0-99b9-4875c52427e8"
    ]
   },
   "source": [
    "<font size=4>Video Game Sales Analysis</font>\n",
    "\n",
    "Analysis for the online store Ice, which sells video games worldwide. \n",
    "- User and expert reviews, genres, platforms (e.g., Xbox or PlayStation), and historical game sales data are available from open sources."
   ]
  },
  {
   "cell_type": "markdown",
   "metadata": {},
   "source": [
    "<font size=4>Step 1. Importing Data</font>"
   ]
  },
  {
   "cell_type": "code",
   "execution_count": 4,
   "metadata": {
    "trusted": false
   },
   "outputs": [],
   "source": [
    "#import libraries\n",
    "import pandas as pd\n",
    "import numpy as np\n",
    "from matplotlib import pyplot as plt\n",
    "import seaborn as sns\n",
    "from scipy import stats as st"
   ]
  },
  {
   "cell_type": "code",
   "execution_count": 5,
   "metadata": {
    "trusted": false
   },
   "outputs": [],
   "source": [
    "#import data\n",
    "df = pd.read_csv('games.csv')"
   ]
  },
  {
   "cell_type": "code",
   "execution_count": 6,
   "metadata": {
    "trusted": false
   },
   "outputs": [
    {
     "name": "stdout",
     "output_type": "stream",
     "text": [
      "<class 'pandas.core.frame.DataFrame'>\n",
      "RangeIndex: 16715 entries, 0 to 16714\n",
      "Data columns (total 11 columns):\n",
      " #   Column           Non-Null Count  Dtype  \n",
      "---  ------           --------------  -----  \n",
      " 0   Name             16713 non-null  object \n",
      " 1   Platform         16715 non-null  object \n",
      " 2   Year_of_Release  16446 non-null  float64\n",
      " 3   Genre            16713 non-null  object \n",
      " 4   NA_sales         16715 non-null  float64\n",
      " 5   EU_sales         16715 non-null  float64\n",
      " 6   JP_sales         16715 non-null  float64\n",
      " 7   Other_sales      16715 non-null  float64\n",
      " 8   Critic_Score     8137 non-null   float64\n",
      " 9   User_Score       10014 non-null  object \n",
      " 10  Rating           9949 non-null   object \n",
      "dtypes: float64(6), object(5)\n",
      "memory usage: 1.4+ MB\n",
      "                                            Name Platform  Year_of_Release  \\\n",
      "0                                     Wii Sports      Wii           2006.0   \n",
      "1                              Super Mario Bros.      NES           1985.0   \n",
      "2                                 Mario Kart Wii      Wii           2008.0   \n",
      "3                              Wii Sports Resort      Wii           2009.0   \n",
      "4                       Pokemon Red/Pokemon Blue       GB           1996.0   \n",
      "5                                         Tetris       GB           1989.0   \n",
      "6                          New Super Mario Bros.       DS           2006.0   \n",
      "7                                       Wii Play      Wii           2006.0   \n",
      "8                      New Super Mario Bros. Wii      Wii           2009.0   \n",
      "9                                      Duck Hunt      NES           1984.0   \n",
      "10                                    Nintendogs       DS           2005.0   \n",
      "11                                 Mario Kart DS       DS           2005.0   \n",
      "12                   Pokemon Gold/Pokemon Silver       GB           1999.0   \n",
      "13                                       Wii Fit      Wii           2007.0   \n",
      "14                            Kinect Adventures!     X360           2010.0   \n",
      "15                                  Wii Fit Plus      Wii           2009.0   \n",
      "16                            Grand Theft Auto V      PS3           2013.0   \n",
      "17                 Grand Theft Auto: San Andreas      PS2           2004.0   \n",
      "18                             Super Mario World     SNES           1990.0   \n",
      "19  Brain Age: Train Your Brain in Minutes a Day       DS           2005.0   \n",
      "\n",
      "           Genre  NA_sales  EU_sales  JP_sales  Other_sales  Critic_Score  \\\n",
      "0         Sports     41.36     28.96      3.77         8.45          76.0   \n",
      "1       Platform     29.08      3.58      6.81         0.77           NaN   \n",
      "2         Racing     15.68     12.76      3.79         3.29          82.0   \n",
      "3         Sports     15.61     10.93      3.28         2.95          80.0   \n",
      "4   Role-Playing     11.27      8.89     10.22         1.00           NaN   \n",
      "5         Puzzle     23.20      2.26      4.22         0.58           NaN   \n",
      "6       Platform     11.28      9.14      6.50         2.88          89.0   \n",
      "7           Misc     13.96      9.18      2.93         2.84          58.0   \n",
      "8       Platform     14.44      6.94      4.70         2.24          87.0   \n",
      "9        Shooter     26.93      0.63      0.28         0.47           NaN   \n",
      "10    Simulation      9.05     10.95      1.93         2.74           NaN   \n",
      "11        Racing      9.71      7.47      4.13         1.90          91.0   \n",
      "12  Role-Playing      9.00      6.18      7.20         0.71           NaN   \n",
      "13        Sports      8.92      8.03      3.60         2.15          80.0   \n",
      "14          Misc     15.00      4.89      0.24         1.69          61.0   \n",
      "15        Sports      9.01      8.49      2.53         1.77          80.0   \n",
      "16        Action      7.02      9.09      0.98         3.96          97.0   \n",
      "17        Action      9.43      0.40      0.41        10.57          95.0   \n",
      "18      Platform     12.78      3.75      3.54         0.55           NaN   \n",
      "19          Misc      4.74      9.20      4.16         2.04          77.0   \n",
      "\n",
      "   User_Score Rating  \n",
      "0           8      E  \n",
      "1         NaN    NaN  \n",
      "2         8.3      E  \n",
      "3           8      E  \n",
      "4         NaN    NaN  \n",
      "5         NaN    NaN  \n",
      "6         8.5      E  \n",
      "7         6.6      E  \n",
      "8         8.4      E  \n",
      "9         NaN    NaN  \n",
      "10        NaN    NaN  \n",
      "11        8.6      E  \n",
      "12        NaN    NaN  \n",
      "13        7.7      E  \n",
      "14        6.3      E  \n",
      "15        7.4      E  \n",
      "16        8.2      M  \n",
      "17          9      M  \n",
      "18        NaN    NaN  \n",
      "19        7.9      E  \n"
     ]
    }
   ],
   "source": [
    "df.info()\n",
    "print(df.head(20))"
   ]
  },
  {
   "cell_type": "markdown",
   "metadata": {},
   "source": [
    "<font size=4>Step 2. Data Preprocessing</font>"
   ]
  },
  {
   "cell_type": "code",
   "execution_count": 7,
   "metadata": {
    "trusted": false
   },
   "outputs": [],
   "source": [
    "#columns names in lower\n",
    "df = df.rename(columns = str.lower)"
   ]
  },
  {
   "cell_type": "code",
   "execution_count": 8,
   "metadata": {
    "trusted": false
   },
   "outputs": [
    {
     "data": {
      "text/plain": [
       "name                  2\n",
       "platform              0\n",
       "year_of_release     269\n",
       "genre                 2\n",
       "na_sales              0\n",
       "eu_sales              0\n",
       "jp_sales              0\n",
       "other_sales           0\n",
       "critic_score       8578\n",
       "user_score         6701\n",
       "rating             6766\n",
       "dtype: int64"
      ]
     },
     "execution_count": 8,
     "metadata": {},
     "output_type": "execute_result"
    }
   ],
   "source": [
    "#Searching for missing values\n",
    "df.isna().sum()"
   ]
  },
  {
   "cell_type": "code",
   "execution_count": 9,
   "metadata": {
    "trusted": false
   },
   "outputs": [
    {
     "name": "stdout",
     "output_type": "stream",
     "text": [
      "Missing values in the column 'name':  0\n"
     ]
    }
   ],
   "source": [
    "#Name\n",
    "df['name'] = df['name'].fillna('Unknown')\n",
    "print(\"Missing values in the column 'name': \", df['name'].isna().sum())"
   ]
  },
  {
   "cell_type": "markdown",
   "metadata": {},
   "source": [
    "NOTE: The 2 missing values in the 'name' column were filled with 'unknown' value."
   ]
  },
  {
   "cell_type": "code",
   "execution_count": 10,
   "metadata": {
    "trusted": false
   },
   "outputs": [
    {
     "name": "stdout",
     "output_type": "stream",
     "text": [
      "Missing values in the column 'year_of_release':  0\n"
     ]
    }
   ],
   "source": [
    "#Year of Release\n",
    "df['year_of_release'] = df['year_of_release'].fillna(0).astype(int)\n",
    "# fill with 0 due to an error converting non-finite values (NA or inf) to integer\n",
    "print(\"Missing values in the column 'year_of_release': \", df['year_of_release'].isna().sum())"
   ]
  },
  {
   "cell_type": "markdown",
   "metadata": {},
   "source": [
    "NOTE: The 269 missing values in the 'year_of_release' column were filled with 0 to avoid a 'ValueError' during the conversion to integers, as NaN values cannot be directly converted. Filling with 0 was chosen to prevent data loss."
   ]
  },
  {
   "cell_type": "code",
   "execution_count": 11,
   "metadata": {
    "trusted": false
   },
   "outputs": [
    {
     "name": "stdout",
     "output_type": "stream",
     "text": [
      "Missing values in the column 'genre':  0\n"
     ]
    }
   ],
   "source": [
    "#Genre\n",
    "df['genre'] = df['genre'].fillna('Unknown')\n",
    "print(\"Missing values in the column 'genre': \", df['genre'].isna().sum())"
   ]
  },
  {
   "cell_type": "code",
   "execution_count": 12,
   "metadata": {
    "trusted": false
   },
   "outputs": [
    {
     "name": "stdout",
     "output_type": "stream",
     "text": [
      "Missing values in the column 'critic_score':  0\n"
     ]
    }
   ],
   "source": [
    "#Critic_Score\n",
    "df['critic_score'] = df['critic_score'].fillna(0).astype(int)\n",
    "# fill with 0 due to an error converting non-finite values (NA or inf) to integer\n",
    "print(\"Missing values in the column 'critic_score': \", df['critic_score'].isna().sum())"
   ]
  },
  {
   "cell_type": "markdown",
   "metadata": {},
   "source": [
    "NOTE: The 8578 missing values in the 'critic_score' column were filled with 0 to avoid a 'ValueError' during the conversion to integers, as NaN values cannot be directly converted. Filling with 0 was chosen to prevent data loss."
   ]
  },
  {
   "cell_type": "code",
   "execution_count": 13,
   "metadata": {
    "trusted": false
   },
   "outputs": [],
   "source": [
    "#User Score\n",
    "df['user_score'] = pd.to_numeric(df['user_score'], errors = 'coerce')  #'TBD' values are converted to NaN and then filled with 0.\n",
    "df['user_score'] = df['user_score'].fillna(0) "
   ]
  },
  {
   "cell_type": "markdown",
   "metadata": {},
   "source": [
    "NOTE: This method preserves data integrity and allows for numerical analysis by handling 'TBD' and missing values in the 'user_score' column."
   ]
  },
  {
   "cell_type": "code",
   "execution_count": 14,
   "metadata": {
    "trusted": false
   },
   "outputs": [
    {
     "name": "stdout",
     "output_type": "stream",
     "text": [
      "Missing values in the column 'rating':  0\n"
     ]
    }
   ],
   "source": [
    "#Rating\n",
    "df['rating'] = df['rating'].fillna('Unknown')\n",
    "print(\"Missing values in the column 'rating': \", df['rating'].isna().sum())"
   ]
  },
  {
   "cell_type": "markdown",
   "metadata": {},
   "source": [
    "NOTE: Since 'rating' is a categorical variable, filling with 'Unknown' preserves the categorical of the column (making it easier to analyze and interpret)."
   ]
  },
  {
   "cell_type": "code",
   "execution_count": 15,
   "metadata": {
    "trusted": false
   },
   "outputs": [],
   "source": [
    "#Creating 'total_sales' column\n",
    "df['total_sales'] = df['na_sales'] + df['eu_sales'] + df['jp_sales'] + df['other_sales']"
   ]
  },
  {
   "cell_type": "code",
   "execution_count": 16,
   "metadata": {
    "trusted": false
   },
   "outputs": [
    {
     "name": "stdout",
     "output_type": "stream",
     "text": [
      "<class 'pandas.core.frame.DataFrame'>\n",
      "RangeIndex: 16715 entries, 0 to 16714\n",
      "Data columns (total 12 columns):\n",
      " #   Column           Non-Null Count  Dtype  \n",
      "---  ------           --------------  -----  \n",
      " 0   name             16715 non-null  object \n",
      " 1   platform         16715 non-null  object \n",
      " 2   year_of_release  16715 non-null  int32  \n",
      " 3   genre            16715 non-null  object \n",
      " 4   na_sales         16715 non-null  float64\n",
      " 5   eu_sales         16715 non-null  float64\n",
      " 6   jp_sales         16715 non-null  float64\n",
      " 7   other_sales      16715 non-null  float64\n",
      " 8   critic_score     16715 non-null  int32  \n",
      " 9   user_score       16715 non-null  float64\n",
      " 10  rating           16715 non-null  object \n",
      " 11  total_sales      16715 non-null  float64\n",
      "dtypes: float64(6), int32(2), object(4)\n",
      "memory usage: 1.4+ MB\n"
     ]
    }
   ],
   "source": [
    "#Checking data frame\n",
    "df.info()"
   ]
  },
  {
   "cell_type": "markdown",
   "metadata": {},
   "source": [
    "<font size=4>Step 3. Data Analysis</font> "
   ]
  },
  {
   "cell_type": "markdown",
   "metadata": {},
   "source": [
    "- How many games were released in different years?"
   ]
  },
  {
   "cell_type": "code",
   "execution_count": 17,
   "metadata": {
    "trusted": false
   },
   "outputs": [
    {
     "data": {
      "image/png": "[encoded data removed]",
      "text/plain": [
       "<Figure size 640x480 with 1 Axes>"
      ]
     },
     "metadata": {},
     "output_type": "display_data"
    }
   ],
   "source": [
    "games_by_year = df[df['year_of_release']!= 0].groupby('year_of_release')['name'].count().reset_index()\n",
    "games_by_year = games_by_year[1:]\n",
    "\n",
    "plt.bar(games_by_year['year_of_release'], games_by_year['name'])\n",
    "plt.xlabel('Year')\n",
    "plt.ylabel('Number of Games')\n",
    "plt.title('Number of games launched by year')\n",
    "plt.show()"
   ]
  },
  {
   "cell_type": "markdown",
   "metadata": {},
   "source": [
    "- Observe how sales vary across platforms. \n",
    "\n",
    "1. Select the platforms with the highest total sales and construct a distribution based on each year's data. "
   ]
  },
  {
   "cell_type": "code",
   "execution_count": 18,
   "metadata": {
    "trusted": false
   },
   "outputs": [
    {
     "name": "stdout",
     "output_type": "stream",
     "text": [
      "   platform  na_sales  eu_sales  jp_sales  other_sales  total_sales\n",
      "16      PS2    583.84    339.29    139.20       193.44      1255.77\n",
      "28     X360    602.47    270.76     12.43        85.76       971.42\n",
      "17      PS3    393.49    330.29     80.19       135.68       939.65\n",
      "26      Wii    496.90    262.21     69.33        79.07       907.51\n",
      "4        DS    382.40    188.89    175.57        59.26       806.12\n"
     ]
    },
    {
     "data": {
      "image/png": "[encoded data removed]",
      "text/plain": [
       "<Figure size 1200x600 with 1 Axes>"
      ]
     },
     "metadata": {},
     "output_type": "display_data"
    }
   ],
   "source": [
    "#diference in sales by platforms in different parts of the world\n",
    "platform_sales_na = df.groupby('platform')['na_sales'].sum().reset_index() #sum of sales in North America by platform\n",
    "platform_sales_eu = df.groupby('platform')['eu_sales'].sum().reset_index()\n",
    "platform_sales_jp = df.groupby('platform')['jp_sales'].sum().reset_index()\n",
    "platform_sales_other = df.groupby('platform')['other_sales'].sum().reset_index()\n",
    "\n",
    "#merge the sales from different regions\n",
    "df_filtered_sales = platform_sales_na.merge(platform_sales_eu, on = 'platform', how = 'inner')\n",
    "df_filtered_sales = df_filtered_sales.merge(platform_sales_jp, on = 'platform', how = 'inner')\n",
    "df_filtered_sales = df_filtered_sales.merge(platform_sales_other, on = 'platform', how = 'inner')\n",
    "\n",
    "#calculate total sales\n",
    "df_filtered_sales['total_sales'] = df_filtered_sales['na_sales'] + df_filtered_sales['eu_sales'] + df_filtered_sales['jp_sales'] + df_filtered_sales['other_sales']\n",
    "df_filtered_sales = df_filtered_sales.sort_values(by = 'total_sales', ascending = False) #sort values in descending order\n",
    "print(df_filtered_sales.head(5))\n",
    "#The top 5 global platforms according to sales were the PS2, X360, PS3, Wii and DS.\n",
    "\n",
    "plt.figure(figsize = (12, 6))\n",
    "plt.bar(df_filtered_sales['platform'], df_filtered_sales['total_sales'])\n",
    "plt.xlabel('Platform')\n",
    "plt.ylabel('Sales')\n",
    "plt.title('Global Sales')\n",
    "plt.xticks(rotation = 45, ha = 'right')\n",
    "plt.tight_layout()\n",
    "plt.show()"
   ]
  },
  {
   "cell_type": "markdown",
   "metadata": {},
   "source": [
    "2. Look for platforms that used to be popular but are now losing sales. \n",
    "3. How long does it typically take for a new platform to appear and an old one to disappear?"
   ]
  },
  {
   "cell_type": "code",
   "execution_count": 19,
   "metadata": {
    "trusted": false
   },
   "outputs": [
    {
     "data": {
      "image/png": "[encoded data removed]",
      "text/plain": [
       "<Figure size 1200x600 with 1 Axes>"
      ]
     },
     "metadata": {},
     "output_type": "display_data"
    }
   ],
   "source": [
    "#distribution of top sales by year\n",
    "x360_sales = df[df['platform'] == 'X360']\n",
    "x360_sales_by_year = x360_sales.groupby('year_of_release')['total_sales'].sum().reset_index()\n",
    "x360_sales_by_year = x360_sales_by_year[1:] #exclude missing values from 'year_of_release'\n",
    "\n",
    "ps2_sales = df[df['platform'] == 'PS2']\n",
    "ps2_sales_by_year = ps2_sales.groupby('year_of_release')['total_sales'].sum().reset_index()\n",
    "ps2_sales_by_year = ps2_sales_by_year[1:]\n",
    "\n",
    "ps3_sales = df[df['platform'] == 'PS3']\n",
    "ps3_sales_by_year = ps3_sales.groupby('year_of_release')['total_sales'].sum().reset_index()\n",
    "ps3_sales_by_year = ps3_sales_by_year[1:]\n",
    "\n",
    "wii_sales = df[df['platform'] == 'Wii']\n",
    "wii_sales_by_year = wii_sales.groupby('year_of_release')['total_sales'].sum().reset_index()\n",
    "wii_sales_by_year = wii_sales_by_year[1:]\n",
    "\n",
    "ds_sales = df[df['platform'] == 'DS']\n",
    "ds_sales_by_year = ds_sales.groupby('year_of_release')['total_sales'].sum().reset_index()\n",
    "ds_sales_by_year = ds_sales_by_year[2:] # there is sale registered in 1985 for the DS, which is an error, the reason to start from index 2\n",
    "\n",
    "plt.figure(figsize = (12, 6))\n",
    "plt.plot(x360_sales_by_year['year_of_release'], x360_sales_by_year['total_sales'], label = 'X360')\n",
    "plt.plot(ps2_sales_by_year['year_of_release'], ps2_sales_by_year['total_sales'], label = 'PS2')\n",
    "plt.plot(ps3_sales_by_year['year_of_release'], ps3_sales_by_year['total_sales'], label = 'PS3')\n",
    "plt.plot(wii_sales_by_year['year_of_release'], wii_sales_by_year['total_sales'], label = 'Wii')\n",
    "plt.plot(ds_sales_by_year['year_of_release'], ds_sales_by_year['total_sales'], label = 'DS')\n",
    "plt.xlabel('Year of Release')\n",
    "plt.ylabel('Total Sales')\n",
    "plt.title('Distribution of Total Sales by Year for Top Platforms')\n",
    "plt.legend()\n",
    "plt.grid(True)\n",
    "plt.show()"
   ]
  },
  {
   "cell_type": "markdown",
   "metadata": {},
   "source": [
    "The lifespan of a gaming platform varies, but the analysis suggests that it typically takes around 10 years for a platform to rise and then decline. The Playstation 2, which was introduced in 2000, reached its peak sales around 2004-2005 and had largely declined in popularity by 2010. The Xbox 360 had a similar trajectory with a lifespan of 11 years.\n",
    "\n",
    "Notable platforms that were once popular but have experienced a decline in recent years were the Playstation 2 (PS2), Nintendo DS (DS) and Wii. These platforms were in top at its moment, but their sales have diminished as newer consoles have emerged."
   ]
  },
  {
   "cell_type": "markdown",
   "metadata": {},
   "source": [
    "- Model for 2017"
   ]
  },
  {
   "cell_type": "code",
   "execution_count": 20,
   "metadata": {
    "trusted": false
   },
   "outputs": [
    {
     "data": {
      "text/html": [
       "<div>\n",
       "<style scoped>\n",
       "    .dataframe tbody tr th:only-of-type {\n",
       "        vertical-align: middle;\n",
       "    }\n",
       "\n",
       "    .dataframe tbody tr th {\n",
       "        vertical-align: top;\n",
       "    }\n",
       "\n",
       "    .dataframe thead th {\n",
       "        text-align: right;\n",
       "    }\n",
       "</style>\n",
       "<table border=\"1\" class=\"dataframe\">\n",
       "  <thead>\n",
       "    <tr style=\"text-align: right;\">\n",
       "      <th></th>\n",
       "      <th>name</th>\n",
       "      <th>platform</th>\n",
       "      <th>year_of_release</th>\n",
       "      <th>genre</th>\n",
       "      <th>na_sales</th>\n",
       "      <th>eu_sales</th>\n",
       "      <th>jp_sales</th>\n",
       "      <th>other_sales</th>\n",
       "      <th>critic_score</th>\n",
       "      <th>user_score</th>\n",
       "      <th>rating</th>\n",
       "      <th>total_sales</th>\n",
       "    </tr>\n",
       "  </thead>\n",
       "  <tbody>\n",
       "    <tr>\n",
       "      <th>2</th>\n",
       "      <td>Mario Kart Wii</td>\n",
       "      <td>Wii</td>\n",
       "      <td>2008</td>\n",
       "      <td>Racing</td>\n",
       "      <td>15.68</td>\n",
       "      <td>12.76</td>\n",
       "      <td>3.79</td>\n",
       "      <td>3.29</td>\n",
       "      <td>82</td>\n",
       "      <td>8.3</td>\n",
       "      <td>E</td>\n",
       "      <td>35.52</td>\n",
       "    </tr>\n",
       "    <tr>\n",
       "      <th>3</th>\n",
       "      <td>Wii Sports Resort</td>\n",
       "      <td>Wii</td>\n",
       "      <td>2009</td>\n",
       "      <td>Sports</td>\n",
       "      <td>15.61</td>\n",
       "      <td>10.93</td>\n",
       "      <td>3.28</td>\n",
       "      <td>2.95</td>\n",
       "      <td>80</td>\n",
       "      <td>8.0</td>\n",
       "      <td>E</td>\n",
       "      <td>32.77</td>\n",
       "    </tr>\n",
       "    <tr>\n",
       "      <th>8</th>\n",
       "      <td>New Super Mario Bros. Wii</td>\n",
       "      <td>Wii</td>\n",
       "      <td>2009</td>\n",
       "      <td>Platform</td>\n",
       "      <td>14.44</td>\n",
       "      <td>6.94</td>\n",
       "      <td>4.70</td>\n",
       "      <td>2.24</td>\n",
       "      <td>87</td>\n",
       "      <td>8.4</td>\n",
       "      <td>E</td>\n",
       "      <td>28.32</td>\n",
       "    </tr>\n",
       "    <tr>\n",
       "      <th>13</th>\n",
       "      <td>Wii Fit</td>\n",
       "      <td>Wii</td>\n",
       "      <td>2007</td>\n",
       "      <td>Sports</td>\n",
       "      <td>8.92</td>\n",
       "      <td>8.03</td>\n",
       "      <td>3.60</td>\n",
       "      <td>2.15</td>\n",
       "      <td>80</td>\n",
       "      <td>7.7</td>\n",
       "      <td>E</td>\n",
       "      <td>22.70</td>\n",
       "    </tr>\n",
       "    <tr>\n",
       "      <th>14</th>\n",
       "      <td>Kinect Adventures!</td>\n",
       "      <td>X360</td>\n",
       "      <td>2010</td>\n",
       "      <td>Misc</td>\n",
       "      <td>15.00</td>\n",
       "      <td>4.89</td>\n",
       "      <td>0.24</td>\n",
       "      <td>1.69</td>\n",
       "      <td>61</td>\n",
       "      <td>6.3</td>\n",
       "      <td>E</td>\n",
       "      <td>21.82</td>\n",
       "    </tr>\n",
       "    <tr>\n",
       "      <th>15</th>\n",
       "      <td>Wii Fit Plus</td>\n",
       "      <td>Wii</td>\n",
       "      <td>2009</td>\n",
       "      <td>Sports</td>\n",
       "      <td>9.01</td>\n",
       "      <td>8.49</td>\n",
       "      <td>2.53</td>\n",
       "      <td>1.77</td>\n",
       "      <td>80</td>\n",
       "      <td>7.4</td>\n",
       "      <td>E</td>\n",
       "      <td>21.80</td>\n",
       "    </tr>\n",
       "    <tr>\n",
       "      <th>16</th>\n",
       "      <td>Grand Theft Auto V</td>\n",
       "      <td>PS3</td>\n",
       "      <td>2013</td>\n",
       "      <td>Action</td>\n",
       "      <td>7.02</td>\n",
       "      <td>9.09</td>\n",
       "      <td>0.98</td>\n",
       "      <td>3.96</td>\n",
       "      <td>97</td>\n",
       "      <td>8.2</td>\n",
       "      <td>M</td>\n",
       "      <td>21.05</td>\n",
       "    </tr>\n",
       "    <tr>\n",
       "      <th>23</th>\n",
       "      <td>Grand Theft Auto V</td>\n",
       "      <td>X360</td>\n",
       "      <td>2013</td>\n",
       "      <td>Action</td>\n",
       "      <td>9.66</td>\n",
       "      <td>5.14</td>\n",
       "      <td>0.06</td>\n",
       "      <td>1.41</td>\n",
       "      <td>97</td>\n",
       "      <td>8.1</td>\n",
       "      <td>M</td>\n",
       "      <td>16.27</td>\n",
       "    </tr>\n",
       "    <tr>\n",
       "      <th>27</th>\n",
       "      <td>Pokemon Black/Pokemon White</td>\n",
       "      <td>DS</td>\n",
       "      <td>2010</td>\n",
       "      <td>Role-Playing</td>\n",
       "      <td>5.51</td>\n",
       "      <td>3.17</td>\n",
       "      <td>5.65</td>\n",
       "      <td>0.80</td>\n",
       "      <td>0</td>\n",
       "      <td>0.0</td>\n",
       "      <td>Unknown</td>\n",
       "      <td>15.13</td>\n",
       "    </tr>\n",
       "    <tr>\n",
       "      <th>29</th>\n",
       "      <td>Call of Duty: Modern Warfare 3</td>\n",
       "      <td>X360</td>\n",
       "      <td>2011</td>\n",
       "      <td>Shooter</td>\n",
       "      <td>9.04</td>\n",
       "      <td>4.24</td>\n",
       "      <td>0.13</td>\n",
       "      <td>1.32</td>\n",
       "      <td>88</td>\n",
       "      <td>3.4</td>\n",
       "      <td>M</td>\n",
       "      <td>14.73</td>\n",
       "    </tr>\n",
       "  </tbody>\n",
       "</table>\n",
       "</div>"
      ],
      "text/plain": [
       "                              name platform  year_of_release         genre  \\\n",
       "2                   Mario Kart Wii      Wii             2008        Racing   \n",
       "3                Wii Sports Resort      Wii             2009        Sports   \n",
       "8        New Super Mario Bros. Wii      Wii             2009      Platform   \n",
       "13                         Wii Fit      Wii             2007        Sports   \n",
       "14              Kinect Adventures!     X360             2010          Misc   \n",
       "15                    Wii Fit Plus      Wii             2009        Sports   \n",
       "16              Grand Theft Auto V      PS3             2013        Action   \n",
       "23              Grand Theft Auto V     X360             2013        Action   \n",
       "27     Pokemon Black/Pokemon White       DS             2010  Role-Playing   \n",
       "29  Call of Duty: Modern Warfare 3     X360             2011       Shooter   \n",
       "\n",
       "    na_sales  eu_sales  jp_sales  other_sales  critic_score  user_score  \\\n",
       "2      15.68     12.76      3.79         3.29            82         8.3   \n",
       "3      15.61     10.93      3.28         2.95            80         8.0   \n",
       "8      14.44      6.94      4.70         2.24            87         8.4   \n",
       "13      8.92      8.03      3.60         2.15            80         7.7   \n",
       "14     15.00      4.89      0.24         1.69            61         6.3   \n",
       "15      9.01      8.49      2.53         1.77            80         7.4   \n",
       "16      7.02      9.09      0.98         3.96            97         8.2   \n",
       "23      9.66      5.14      0.06         1.41            97         8.1   \n",
       "27      5.51      3.17      5.65         0.80             0         0.0   \n",
       "29      9.04      4.24      0.13         1.32            88         3.4   \n",
       "\n",
       "     rating  total_sales  \n",
       "2         E        35.52  \n",
       "3         E        32.77  \n",
       "8         E        28.32  \n",
       "13        E        22.70  \n",
       "14        E        21.82  \n",
       "15        E        21.80  \n",
       "16        M        21.05  \n",
       "23        M        16.27  \n",
       "27  Unknown        15.13  \n",
       "29        M        14.73  "
      ]
     },
     "execution_count": 20,
     "metadata": {},
     "output_type": "execute_result"
    }
   ],
   "source": [
    "filtered_df = df[(df['year_of_release'] >= 2007) & (df['year_of_release'] <= 2016)]\n",
    "filtered_df.head(10)"
   ]
  },
  {
   "cell_type": "markdown",
   "metadata": {},
   "source": [
    "Data from 2007 onwards captures the trends and cover the lifespans of all the top plataforms of the gaming market that are most likely to influence sales in 2017. The dataset only goes up to 2016, making it difficult to predict 2017 sales with high accuracy."
   ]
  },
  {
   "cell_type": "markdown",
   "metadata": {},
   "source": [
    "- Which platforms are leading in sales? Which ones are growing and which ones are declining?"
   ]
  },
  {
   "cell_type": "markdown",
   "metadata": {},
   "source": [
    "The Playstation 2 was a global sales leader for a considerable period, with high initial sales. Its decline was likely due to the introduction of newer console generations. While the Xbox 360 had a long lifespan (around 11 years) and maintained significant global sales."
   ]
  },
  {
   "cell_type": "markdown",
   "metadata": {},
   "source": [
    "- Box Plot for the global sales of all games"
   ]
  },
  {
   "cell_type": "code",
   "execution_count": 38,
   "metadata": {
    "trusted": false
   },
   "outputs": [
    {
     "data": {
      "image/png": "[encoded data removed]",
      "text/plain": [
       "<Figure size 1200x600 with 1 Axes>"
      ]
     },
     "metadata": {},
     "output_type": "display_data"
    },
    {
     "name": "stdout",
     "output_type": "stream",
     "text": [
      "platform\n",
      "GB      2.606735\n",
      "NES     2.561735\n",
      "GEN     1.061034\n",
      "SNES    0.836987\n",
      "PS4     0.801378\n",
      "X360    0.769746\n",
      "2600    0.729173\n",
      "PS3     0.705973\n",
      "Wii     0.687508\n",
      "N64     0.685517\n",
      "XOne    0.645020\n",
      "PS      0.610576\n",
      "PS2     0.581106\n",
      "WiiU    0.559116\n",
      "3DS     0.498077\n",
      "GBA     0.386679\n",
      "DS      0.374765\n",
      "GC      0.357788\n",
      "XB      0.312791\n",
      "SCD     0.310000\n",
      "DC      0.306731\n",
      "PC      0.266448\n",
      "PSP     0.243218\n",
      "WS      0.236667\n",
      "SAT     0.194162\n",
      "PSV     0.125744\n",
      "NG      0.120000\n",
      "TG16    0.080000\n",
      "GG      0.040000\n",
      "3DO     0.033333\n",
      "PCFX    0.030000\n",
      "Name: total_sales, dtype: float64\n"
     ]
    }
   ],
   "source": [
    "plt.figure(figsize = (12, 6))\n",
    "sns.boxplot(x = 'platform', \n",
    "            y = 'total_sales', \n",
    "            data = df,\n",
    "            hue='platform', \n",
    "            palette='Set3'\n",
    "            )\n",
    "plt.xticks(rotation = 45, ha = 'right') #rotates x-labels\n",
    "plt.title('Distribution of Global Sales by Platform')\n",
    "plt.xlabel('Plataforms')\n",
    "plt.ylabel('Total Sales')\n",
    "plt.yscale('log') #using a logarithmic scale for the y-axis can help visualize the differences more clearly\n",
    "plt.show()\n",
    "\n",
    "average_sales_by_platform = df.groupby('platform')['total_sales'].mean().sort_values(ascending=False)\n",
    "print(average_sales_by_platform)"
   ]
  },
  {
   "cell_type": "markdown",
   "metadata": {},
   "source": [
    "Are the differences in sales significant? What about the average sales across various platforms?\n",
    "From the box plot and the average sales calculation, you can infer that:\n",
    "\n",
    "There is significant variability in sales across platforms. Platforms like Gameboy, NES, and  Genesis have higher average sales compared to other platforms like Playstation Vita and Saturn, that have relatively lower average sales."
   ]
  },
  {
   "cell_type": "markdown",
   "metadata": {},
   "source": [
    "- How user and professional reviews affect sales on a popular platform?\n",
    "\n",
    "(create a scatter plot and calculate the ratio of reviews to sales)"
   ]
  },
  {
   "cell_type": "code",
   "execution_count": 22,
   "metadata": {
    "trusted": false
   },
   "outputs": [
    {
     "name": "stdout",
     "output_type": "stream",
     "text": [
      "                                            name  user_score  total_sales\n",
      "6                          New Super Mario Bros.         8.5        29.80\n",
      "10                                    Nintendogs         0.0        24.67\n",
      "11                                 Mario Kart DS         8.6        23.21\n",
      "19  Brain Age: Train Your Brain in Minutes a Day         7.9        20.14\n",
      "20                 Pokemon Diamond/Pokemon Pearl         0.0        18.24\n",
      "26   Brain Age 2: More Training in Minutes a Day         7.1        15.28\n",
      "27                   Pokemon Black/Pokemon White         0.0        15.13\n",
      "43                   Animal Crossing: Wild World         8.7        12.14\n",
      "46          Pokemon HeartGold/Pokemon SoulSilver         0.0        11.77\n",
      "59                                Super Mario 64         0.0        10.30\n",
      "\n"
     ]
    },
    {
     "data": {
      "image/png": "[encoded data removed]",
      "text/plain": [
       "<Figure size 800x600 with 1 Axes>"
      ]
     },
     "metadata": {},
     "output_type": "display_data"
    },
    {
     "name": "stdout",
     "output_type": "stream",
     "text": [
      "Correlation between User Score and Total Sales: 0.187829559862906\n"
     ]
    }
   ],
   "source": [
    "#Nitendo DS\n",
    "ds_df = df[df['platform'] == 'DS']\n",
    "ds_user_score = ds_df[['name','user_score', 'total_sales']]\n",
    "print(ds_user_score.head(10))\n",
    "print()\n",
    "\n",
    "ds_user_score = ds_df[ds_df['user_score'] != 0] #filter out rows with user_score equal to 0\n",
    "\n",
    "#scatter plot for user score vs. total sales (excluding critic_score = 0)\n",
    "plt.figure(figsize = (8, 6))\n",
    "plt.scatter(ds_user_score['user_score'], ds_user_score['total_sales'])\n",
    "plt.xlabel('User Score')\n",
    "plt.ylabel('Total Sales')\n",
    "plt.title('User Score vs. Total Sales for Nintendo DS Platform')\n",
    "plt.show()\n",
    "\n",
    "#calculate correlation between user score and total sales (excluding critic_score = 0)\n",
    "user_score_correlation = ds_df['user_score'].corr(ds_df['total_sales'])\n",
    "print(f\"Correlation between User Score and Total Sales: {user_score_correlation}\")"
   ]
  },
  {
   "cell_type": "code",
   "execution_count": 23,
   "metadata": {
    "trusted": false
   },
   "outputs": [
    {
     "name": "stdout",
     "output_type": "stream",
     "text": [
      "                                            name  critic_score  total_sales\n",
      "6                          New Super Mario Bros.            89        29.80\n",
      "10                                    Nintendogs             0        24.67\n",
      "11                                 Mario Kart DS            91        23.21\n",
      "19  Brain Age: Train Your Brain in Minutes a Day            77        20.14\n",
      "20                 Pokemon Diamond/Pokemon Pearl             0        18.24\n",
      "26   Brain Age 2: More Training in Minutes a Day            77        15.28\n",
      "27                   Pokemon Black/Pokemon White             0        15.13\n",
      "43                   Animal Crossing: Wild World            86        12.14\n",
      "46          Pokemon HeartGold/Pokemon SoulSilver             0        11.77\n",
      "59                                Super Mario 64             0        10.30\n",
      "\n"
     ]
    },
    {
     "data": {
      "image/png": "[encoded data removed]",
      "text/plain": [
       "<Figure size 800x600 with 1 Axes>"
      ]
     },
     "metadata": {},
     "output_type": "display_data"
    },
    {
     "name": "stdout",
     "output_type": "stream",
     "text": [
      "Correlation between Critic Score and Total Sales: 0.15908732465426667\n"
     ]
    }
   ],
   "source": [
    "ds_critic_score = ds_df[['name','critic_score', 'total_sales']]\n",
    "print(ds_critic_score.head(10))\n",
    "print()\n",
    "\n",
    "ds_critic_score = ds_critic_score[ds_critic_score['critic_score'] != 0]#filter out rows with critic_score equal to 0\n",
    "\n",
    "#scatter plot for critic score vs. total sales (excluding critic_score = 0)\n",
    "plt.figure(figsize=(8, 6))\n",
    "plt.scatter(ds_critic_score['critic_score'], ds_critic_score['total_sales'])\n",
    "plt.xlabel('Critic Score')\n",
    "plt.ylabel('Total Sales')\n",
    "plt.title('Critic Score vs. Total Sales for Nintendo DS Platform')\n",
    "plt.show()\n",
    "\n",
    "#calculate correlation between critic score and total sales (excluding critic_score = 0)\n",
    "critic_score_correlation = ds_df['critic_score'].corr(ds_df['total_sales'])\n",
    "print(f\"Correlation between Critic Score and Total Sales: {critic_score_correlation}\")"
   ]
  },
  {
   "cell_type": "markdown",
   "metadata": {},
   "source": [
    "The analysis of the Nintendo DS platform reveals a weak, but positive correlation between 'user_score' and 'total_sales'. In the case of 'critic_score', the correlation with 'total_sales' is moderate and positive. Although these correlations suggest some influence of reviews on sales, it's important to consider that may be affected by other factors. \n",
    "\n",
    "NOTE: Excluding games without score is recommended for a more accurate analysis (but could affect total sales)."
   ]
  },
  {
   "cell_type": "markdown",
   "metadata": {},
   "source": [
    "- Compare the sales of the same games on other platforms"
   ]
  },
  {
   "cell_type": "code",
   "execution_count": 24,
   "metadata": {
    "trusted": false
   },
   "outputs": [],
   "source": [
    "games_in_other_platforms = df['name'].unique()\n",
    "\n",
    "platforms_games = []\n",
    "\n",
    "for game in games_in_other_platforms:\n",
    "    game_df = df[df['name'] == game] #filter the dataframe for the current game\n",
    "    if len(game_df['platform'].unique()) > 1:\n",
    "       platforms_games.append(game_df[['name', 'platform', 'total_sales']])"
   ]
  },
  {
   "cell_type": "code",
   "execution_count": 25,
   "metadata": {
    "trusted": false
   },
   "outputs": [],
   "source": [
    "platforms_games_df = pd.concat(platforms_games) #convert platforms_games to dataframe\n",
    "selecting_game = platforms_games_df[platforms_games_df['name'] == 'Grand Theft Auto V'] #filter for a game in specific"
   ]
  },
  {
   "cell_type": "code",
   "execution_count": 26,
   "metadata": {
    "trusted": false
   },
   "outputs": [
    {
     "data": {
      "image/png": "[encoded data removed]",
      "text/plain": [
       "<Figure size 800x600 with 1 Axes>"
      ]
     },
     "metadata": {},
     "output_type": "display_data"
    }
   ],
   "source": [
    "plt.figure(figsize = (8, 6))\n",
    "plt.bar(selecting_game['platform'], selecting_game['total_sales'])\n",
    "plt.xlabel('Platforms')\n",
    "plt.ylabel('Sales')\n",
    "plt.title(f\"Sales of {selecting_game['name'].iloc[0]} in different platforms\") #accessing the game name\n",
    "plt.xticks(rotation = 45, ha = 'right')\n",
    "plt.tight_layout() #to prevent labels from overlapping\n",
    "plt.show()"
   ]
  },
  {
   "cell_type": "markdown",
   "metadata": {},
   "source": [
    " - Distribution of games by genre"
   ]
  },
  {
   "cell_type": "code",
   "execution_count": 27,
   "metadata": {
    "trusted": false
   },
   "outputs": [
    {
     "name": "stdout",
     "output_type": "stream",
     "text": [
      "           genre  total_sales\n",
      "0         Action      1744.17\n",
      "1      Adventure       237.59\n",
      "2       Fighting       447.53\n",
      "3           Misc       802.51\n",
      "4       Platform       827.77\n",
      "5         Puzzle       242.57\n",
      "6         Racing       728.67\n",
      "7   Role-Playing       934.56\n",
      "8        Shooter      1052.45\n",
      "9     Simulation       389.97\n",
      "10        Sports      1331.27\n",
      "11      Strategy       174.23\n",
      "12       Unknown         2.42\n"
     ]
    },
    {
     "data": {
      "image/png": "[encoded data removed]",
      "text/plain": [
       "<Figure size 1200x600 with 1 Axes>"
      ]
     },
     "metadata": {},
     "output_type": "display_data"
    }
   ],
   "source": [
    "sales_by_genre = df.groupby('genre')['total_sales'].sum().reset_index()\n",
    "print(sales_by_genre)\n",
    "plt.figure(figsize = (12, 6))\n",
    "plt.bar(sales_by_genre['genre'], sales_by_genre['total_sales'])\n",
    "plt.xlabel('Genre')\n",
    "plt.ylabel('Total Sales')\n",
    "plt.title('Total Global Sales by Genre')\n",
    "plt.xticks(rotation = 45, ha = 'right')\n",
    "plt.tight_layout()\n",
    "plt.show()"
   ]
  },
  {
   "cell_type": "markdown",
   "metadata": {},
   "source": [
    "What can you say about the most profitable genres? \n",
    "\n",
    "Action, Shooter, and Sports are the most profitable genres (this results in higher sales and wider popularity)."
   ]
  },
  {
   "cell_type": "markdown",
   "metadata": {},
   "source": [
    "Can you generalize about genres with high and low sales?\n",
    "\n",
    "Genres like Action, Shooter, and Sports are generally the most profitable, driven by their popularity and attraction to play. While genres like Adventure, Strategy, Puzzle, and Role-Playing tend to have lower sales (often targeting to little audience or requiring specific play styles that are not that popular)."
   ]
  },
  {
   "cell_type": "markdown",
   "metadata": {},
   "source": [
    "<font size=4>Step 4. Create a user profile for each region</font>"
   ]
  },
  {
   "cell_type": "markdown",
   "metadata": {},
   "source": [
    "For each region (NA, EU, JP), determine:\n",
    "\n",
    "1. The top five platforms. Describe the variations in their market share from region to region.\n",
    "2. The top five genres. Explain the differences.\n",
    "3. Whether ESRB ratings affect sales in individual regions."
   ]
  },
  {
   "cell_type": "code",
   "execution_count": 28,
   "metadata": {
    "trusted": false
   },
   "outputs": [],
   "source": [
    "#Creating separate dataframes for every region\n",
    "na_region = df.drop(columns = ['eu_sales', 'jp_sales', 'other_sales'])\n",
    "eu_region = df.drop(columns = ['na_sales', 'jp_sales', 'other_sales'])\n",
    "jp_region = df.drop(columns = ['eu_sales', 'na_sales', 'other_sales'])"
   ]
  },
  {
   "cell_type": "code",
   "execution_count": 29,
   "metadata": {
    "trusted": false
   },
   "outputs": [
    {
     "name": "stdout",
     "output_type": "stream",
     "text": [
      "Top 5 platforms in NA: platform\n",
      "X360    602.47\n",
      "PS2     583.84\n",
      "Wii     496.90\n",
      "PS3     393.49\n",
      "DS      382.40\n",
      "Name: na_sales, dtype: float64\n",
      "\n",
      "Top 5 platforms in EU: platform\n",
      "PS2     339.29\n",
      "PS3     330.29\n",
      "X360    270.76\n",
      "Wii     262.21\n",
      "PS      213.61\n",
      "Name: eu_sales, dtype: float64\n",
      "\n",
      "Top 5 platforms in JP: platform\n",
      "DS      175.57\n",
      "PS      139.82\n",
      "PS2     139.20\n",
      "SNES    116.55\n",
      "3DS     100.67\n",
      "Name: jp_sales, dtype: float64\n",
      "\n",
      "\n",
      "Market variations:\n",
      "\n",
      "North America: platform\n",
      "X360    0.136852\n",
      "PS2     0.132620\n",
      "Wii     0.112872\n",
      "PS3     0.089382\n",
      "DS      0.086863\n",
      "Name: na_sales, dtype: float64\n",
      "\n",
      "Europe: platform\n",
      "PS2     0.139932\n",
      "PS3     0.136221\n",
      "X360    0.111669\n",
      "Wii     0.108143\n",
      "PS      0.088099\n",
      "Name: eu_sales, dtype: float64\n",
      "\n",
      "Japan: platform\n",
      "DS      0.135328\n",
      "PS      0.107772\n",
      "PS2     0.107294\n",
      "SNES    0.089836\n",
      "3DS     0.077595\n",
      "Name: jp_sales, dtype: float64\n",
      "\n"
     ]
    },
    {
     "data": {
      "text/plain": [
       "(None, None)"
      ]
     },
     "execution_count": 29,
     "metadata": {},
     "output_type": "execute_result"
    }
   ],
   "source": [
    "# Top 5 platforms for the NA, EU and JP regions\n",
    "na_top_platforms = na_region.groupby('platform')['na_sales'].sum().sort_values(ascending = False).head(5)\n",
    "print(\"Top 5 platforms in NA:\", na_top_platforms), print()\n",
    "eu_top_platforms = eu_region.groupby('platform')['eu_sales'].sum().sort_values(ascending = False).head(5)\n",
    "print(\"Top 5 platforms in EU:\", eu_top_platforms), print()\n",
    "jp_top_platforms = jp_region.groupby('platform')['jp_sales'].sum().sort_values(ascending = False).head(5)\n",
    "print(\"Top 5 platforms in JP:\", jp_top_platforms), print()\n",
    "\n",
    "# Market share variations\n",
    "# determine the 'total_sales' for each 'platform' within a region, and then dividing it by the 'total_sales' for that region.\n",
    "# in order to provide the proportion that each platform has\n",
    "na_market = na_region.groupby('platform')['na_sales'].sum().sort_values(ascending = False).head(5) / na_region['na_sales'].sum()\n",
    "eu_market = eu_region.groupby('platform')['eu_sales'].sum().sort_values(ascending = False).head(5) / eu_region['eu_sales'].sum()\n",
    "jp_market = jp_region.groupby('platform')['jp_sales'].sum().sort_values(ascending = False).head(5) / jp_region['jp_sales'].sum()\n",
    "\n",
    "print(\"\\nMarket variations:\"), print()\n",
    "print(\"North America:\", na_market), print()\n",
    "print(\"Europe:\", eu_market), print()\n",
    "print(\"Japan:\", jp_market), print()"
   ]
  },
  {
   "cell_type": "markdown",
   "metadata": {},
   "source": [
    "Some popular platforms like the X360, PS3, and Wii are present in the top 5 for both North America and Europe, indicating a degree of global appeal and popularity between regions. Japan's market, for instance, exhibits a stronger preference for the DS and PS platforms.\n",
    "\n",
    "In North America, the top 5 platforms capture a big percentage of the market, underscoring their dominance. Slightly lower percentages are observed in Europe and Japan."
   ]
  },
  {
   "cell_type": "code",
   "execution_count": 30,
   "metadata": {
    "trusted": false
   },
   "outputs": [
    {
     "name": "stdout",
     "output_type": "stream",
     "text": [
      "\n",
      "Top 5 Genres for every region:\n",
      "\n",
      "North America: genre\n",
      "Action          879.01\n",
      "Sports          684.43\n",
      "Shooter         592.24\n",
      "Platform        445.50\n",
      "Misc            407.27\n",
      "Racing          359.35\n",
      "Role-Playing    330.81\n",
      "Fighting        223.36\n",
      "Simulation      181.92\n",
      "Puzzle          122.87\n",
      "Adventure       105.26\n",
      "Strategy         68.55\n",
      "Unknown           1.78\n",
      "Name: na_sales, dtype: float64\n",
      "\n",
      "Europe: genre\n",
      "Action          519.13\n",
      "Sports          376.79\n",
      "Shooter         317.34\n",
      "Racing          236.51\n",
      "Misc            212.74\n",
      "Platform        200.35\n",
      "Role-Playing    188.71\n",
      "Simulation      113.52\n",
      "Fighting        100.33\n",
      "Adventure        63.54\n",
      "Puzzle           50.01\n",
      "Strategy         45.17\n",
      "Unknown           0.53\n",
      "Name: eu_sales, dtype: float64\n",
      "\n",
      "Japan: genre\n",
      "Role-Playing    355.41\n",
      "Action          161.43\n",
      "Sports          135.54\n",
      "Platform        130.83\n",
      "Misc            108.11\n",
      "Fighting         87.48\n",
      "Simulation       63.80\n",
      "Puzzle           57.31\n",
      "Racing           56.71\n",
      "Adventure        52.30\n",
      "Strategy         49.66\n",
      "Shooter          38.76\n",
      "Unknown           0.03\n",
      "Name: jp_sales, dtype: float64\n",
      "\n"
     ]
    },
    {
     "data": {
      "text/plain": [
       "(None, None)"
      ]
     },
     "execution_count": 30,
     "metadata": {},
     "output_type": "execute_result"
    }
   ],
   "source": [
    "#Top 5 genres for the NA, EU and JP regions\n",
    "na_genres = na_region.groupby('genre')['na_sales'].sum().sort_values(ascending = False)\n",
    "eu_genres = eu_region.groupby('genre')['eu_sales'].sum().sort_values(ascending = False)\n",
    "jp_genres = jp_region.groupby('genre')['jp_sales'].sum().sort_values(ascending = False)\n",
    "print(\"\\nTop 5 Genres for every region:\"), print()\n",
    "print(\"North America:\", na_genres), print()\n",
    "print(\"Europe:\", eu_genres), print()\n",
    "print(\"Japan:\", jp_genres), print()"
   ]
  },
  {
   "cell_type": "markdown",
   "metadata": {},
   "source": [
    "North America and Europe users demonstrate similar preference with Action, Sports, and Shooter games dominating the sales.\n",
    "Japan deviates significantly in Role-Playing games (following with Action games as second)."
   ]
  },
  {
   "cell_type": "code",
   "execution_count": 31,
   "metadata": {
    "trusted": false
   },
   "outputs": [
    {
     "name": "stdout",
     "output_type": "stream",
     "text": [
      "\n",
      "Rating variations:\n",
      "\n",
      "North America: rating\n",
      "E          1292.99\n",
      "Unknown    1242.46\n",
      "T           759.75\n",
      "M           748.48\n",
      "E10+        353.32\n",
      "K-A           2.56\n",
      "EC            1.53\n",
      "AO            1.26\n",
      "RP            0.00\n",
      "Name: na_sales, dtype: float64\n",
      "\n",
      "Europe: rating\n",
      "E          710.25\n",
      "Unknown    613.83\n",
      "M          483.97\n",
      "T          427.03\n",
      "E10+       188.52\n",
      "AO           0.61\n",
      "K-A          0.27\n",
      "EC           0.11\n",
      "RP           0.08\n",
      "Name: eu_sales, dtype: float64\n",
      "\n",
      "Japan: rating\n",
      "Unknown    841.96\n",
      "E          198.11\n",
      "T          151.40\n",
      "M           64.24\n",
      "E10+        40.20\n",
      "K-A          1.46\n",
      "AO           0.00\n",
      "EC           0.00\n",
      "RP           0.00\n",
      "Name: jp_sales, dtype: float64\n",
      "\n"
     ]
    },
    {
     "data": {
      "text/plain": [
       "(None, None)"
      ]
     },
     "execution_count": 31,
     "metadata": {},
     "output_type": "execute_result"
    }
   ],
   "source": [
    "#ESRB rating sales in different regions\n",
    "na_ratings = na_region.groupby('rating')['na_sales'].sum().sort_values(ascending = False)\n",
    "eu_ratings = eu_region.groupby('rating')['eu_sales'].sum().sort_values(ascending = False)\n",
    "jp_ratings = jp_region.groupby('rating')['jp_sales'].sum().sort_values(ascending = False)\n",
    "print(\"\\nRating variations:\"), print()\n",
    "print(\"North America:\", na_ratings), print()\n",
    "print(\"Europe:\", eu_ratings), print()\n",
    "print(\"Japan:\", jp_ratings), print()"
   ]
  },
  {
   "cell_type": "markdown",
   "metadata": {},
   "source": [
    "The analysis of ESRB ratings reveals distinct preferences across regions. In North America and Europe, \"E\" (Everyone) and \"M\" (Mature) rated games dominate sales. While Japan exhibits a stronger preference for \"E\" and \"T\" (Teen) rated games (suggesting a greater focus on all-ages entertainment and lower demand for mature-rated titles compared to North America and Europe."
   ]
  },
  {
   "cell_type": "markdown",
   "metadata": {},
   "source": [
    "<font size=4>Step 5. Hypothesis Testing</font>"
   ]
  },
  {
   "cell_type": "code",
   "execution_count": 32,
   "metadata": {
    "trusted": false
   },
   "outputs": [
    {
     "name": "stdout",
     "output_type": "stream",
     "text": [
      "valor p: 0.0005833414469972175\n",
      "We reject the null hypothesis\n"
     ]
    }
   ],
   "source": [
    "# Hypothesis Testing\n",
    "# Hypothesis 1: The average user ratings for the Xbox One and PC platforms are the same.\n",
    "\n",
    "# H0: xbox_one_ratings = pc_ratings\n",
    "# H1: xbox_one_ratings != pc_ratings\n",
    "\n",
    "alpha = 0.05 #there is a 5% probability of rejecting the null hypothesis\n",
    "\n",
    "xbox_one_ratings = df[df['platform'] == 'XOne']['user_score'] # Get user ratings for Xbox One and PC\n",
    "pc_ratings = df[df['platform'] == 'PC']['user_score']\n",
    "\n",
    "# Hypothesis on the equality of the means of two populations\n",
    "results = st.ttest_ind(xbox_one_ratings, pc_ratings)\n",
    "\n",
    "print('valor p:', results.pvalue)\n",
    "\n",
    "if (results.pvalue < alpha):\n",
    "    print(\"We reject the null hypothesis\")\n",
    "else:\n",
    "    print(\"We cannot reject the null hypothesis\")"
   ]
  },
  {
   "cell_type": "code",
   "execution_count": 33,
   "metadata": {
    "trusted": false
   },
   "outputs": [
    {
     "name": "stdout",
     "output_type": "stream",
     "text": [
      "valor p: 1.1944013786844029e-08\n",
      "We reject the null hypothesis\n"
     ]
    }
   ],
   "source": [
    "# Hypothesis Testing\n",
    "# Hypothesis 2: The Average user ratings for Action and Sports genres are different.\n",
    "\n",
    "# H0: action_ratings = sports_ratings\n",
    "# H1: action_ratings != sports_ratings\n",
    "\n",
    "alpha = 0.05 #there is a 5% probability of rejecting the null hypothesis\n",
    "\n",
    "action_ratings = df[df['genre'] == 'Action']['user_score']\n",
    "sports_ratings = df[df['genre'] == 'Sports']['user_score']\n",
    "\n",
    "# Hypothesis on the equality of the means of two populations\n",
    "results = st.ttest_ind(action_ratings, sports_ratings)\n",
    "\n",
    "print('valor p:', results.pvalue)\n",
    "\n",
    "if (results.pvalue < alpha):\n",
    "    print(\"We reject the null hypothesis\")\n",
    "else:\n",
    "    print(\"We cannot reject the null hypothesis\")"
   ]
  },
  {
   "cell_type": "markdown",
   "metadata": {},
   "source": [
    "<font size=4>Step 6. General Conclusion</font>"
   ]
  },
  {
   "cell_type": "markdown",
   "metadata": {},
   "source": [
    "In conclusion, it was analized at video game sales data to find trends and patterns. Some key things we found were that certain platforms like the PS2, Xbox 360, PS3, Wii, and DS were the most popular, and genres like Action, Sports, and Shooter stood out the most. On the other hand, the platforms tend to go through a life cycle (between 8 and 11 years in general) where new ones eventually replace the older ones.\n",
    "\n",
    "Some hypotheses were tested and it was found that user ratings for Xbox One and PC games were statistically different. However, for the Action and Sports genres, the difference in ratings wasn’t significant.\n",
    "\n",
    "Overall, these findings helped to understand better what influences video game sales and could help predict future trends (although, any predictions should be made carefully)."
   ]
  }
 ],
 "metadata": {
  "ExecuteTimeLog": [
   {
    "duration": 322,
    "start_time": "2025-04-23T23:31:40.935Z"
   },
   {
    "duration": 179,
    "start_time": "2025-04-23T23:31:41.374Z"
   },
   {
    "duration": 284,
    "start_time": "2025-04-23T23:31:56.657Z"
   },
   {
    "duration": 13,
    "start_time": "2025-04-23T23:33:01.170Z"
   },
   {
    "duration": 12,
    "start_time": "2025-04-23T23:57:28.804Z"
   },
   {
    "duration": 94,
    "start_time": "2025-04-23T23:57:33.038Z"
   },
   {
    "duration": 383,
    "start_time": "2025-04-24T00:06:19.276Z"
   },
   {
    "duration": 2,
    "start_time": "2025-04-24T00:06:22.606Z"
   },
   {
    "duration": 105,
    "start_time": "2025-04-24T00:06:23.626Z"
   },
   {
    "duration": 10,
    "start_time": "2025-04-24T00:06:23.990Z"
   },
   {
    "duration": 40,
    "start_time": "2025-04-24T00:06:26.691Z"
   },
   {
    "duration": 12,
    "start_time": "2025-04-24T00:06:46.285Z"
   },
   {
    "duration": 507,
    "start_time": "2025-04-24T00:06:52.827Z"
   },
   {
    "duration": 47,
    "start_time": "2025-04-24T00:07:12.466Z"
   },
   {
    "duration": 117,
    "start_time": "2025-04-24T00:07:23.152Z"
   },
   {
    "duration": 5,
    "start_time": "2025-04-24T00:27:08.163Z"
   },
   {
    "duration": 20,
    "start_time": "2025-04-24T00:31:51.545Z"
   },
   {
    "duration": 4,
    "start_time": "2025-04-24T00:32:05.857Z"
   },
   {
    "duration": 9,
    "start_time": "2025-04-24T00:32:12.090Z"
   },
   {
    "duration": 24,
    "start_time": "2025-04-24T00:33:13.934Z"
   },
   {
    "duration": 16,
    "start_time": "2025-04-24T00:33:13.961Z"
   },
   {
    "duration": 3,
    "start_time": "2025-04-24T00:33:13.978Z"
   },
   {
    "duration": 8,
    "start_time": "2025-04-24T00:33:13.982Z"
   },
   {
    "duration": 5,
    "start_time": "2025-04-24T00:33:13.992Z"
   },
   {
    "duration": 4,
    "start_time": "2025-04-24T00:33:13.999Z"
   },
   {
    "duration": 7,
    "start_time": "2025-04-24T00:33:14.008Z"
   },
   {
    "duration": 3,
    "start_time": "2025-04-24T00:33:14.017Z"
   },
   {
    "duration": 5,
    "start_time": "2025-04-24T00:33:14.022Z"
   },
   {
    "duration": 6,
    "start_time": "2025-04-24T00:33:14.029Z"
   },
   {
    "duration": 11,
    "start_time": "2025-04-24T00:33:14.036Z"
   },
   {
    "duration": 2,
    "start_time": "2025-04-24T00:43:01.742Z"
   },
   {
    "duration": 3,
    "start_time": "2025-04-24T00:43:10.028Z"
   },
   {
    "duration": 21,
    "start_time": "2025-04-24T00:43:20.034Z"
   },
   {
    "duration": 3,
    "start_time": "2025-04-24T00:43:27.917Z"
   },
   {
    "duration": 18,
    "start_time": "2025-04-24T00:44:06.013Z"
   },
   {
    "duration": 1865,
    "start_time": "2025-04-24T00:44:28.907Z"
   },
   {
    "duration": 26,
    "start_time": "2025-04-24T00:44:30.774Z"
   },
   {
    "duration": 3,
    "start_time": "2025-04-24T00:44:33.951Z"
   },
   {
    "duration": 23,
    "start_time": "2025-04-24T00:44:33.959Z"
   },
   {
    "duration": 16,
    "start_time": "2025-04-24T00:44:33.984Z"
   },
   {
    "duration": 3,
    "start_time": "2025-04-24T00:44:34.002Z"
   },
   {
    "duration": 7,
    "start_time": "2025-04-24T00:44:34.007Z"
   },
   {
    "duration": 5,
    "start_time": "2025-04-24T00:44:34.017Z"
   },
   {
    "duration": 5,
    "start_time": "2025-04-24T00:44:34.023Z"
   },
   {
    "duration": 5,
    "start_time": "2025-04-24T00:44:34.029Z"
   },
   {
    "duration": 4,
    "start_time": "2025-04-24T00:44:34.036Z"
   },
   {
    "duration": 5,
    "start_time": "2025-04-24T00:44:34.042Z"
   },
   {
    "duration": 5,
    "start_time": "2025-04-24T00:44:34.048Z"
   },
   {
    "duration": 11,
    "start_time": "2025-04-24T00:44:34.054Z"
   },
   {
    "duration": 356,
    "start_time": "2025-04-24T00:44:34.066Z"
   },
   {
    "duration": 8,
    "start_time": "2025-04-24T00:46:37.893Z"
   },
   {
    "duration": 157,
    "start_time": "2025-04-27T22:55:29.405Z"
   },
   {
    "duration": 2455,
    "start_time": "2025-04-27T22:55:33.224Z"
   },
   {
    "duration": 107,
    "start_time": "2025-04-27T22:55:35.681Z"
   },
   {
    "duration": 20,
    "start_time": "2025-04-27T22:55:35.790Z"
   },
   {
    "duration": 3,
    "start_time": "2025-04-27T22:55:35.812Z"
   },
   {
    "duration": 7,
    "start_time": "2025-04-27T22:55:35.817Z"
   },
   {
    "duration": 4,
    "start_time": "2025-04-27T22:55:35.826Z"
   },
   {
    "duration": 5,
    "start_time": "2025-04-27T22:55:35.832Z"
   },
   {
    "duration": 5,
    "start_time": "2025-04-27T22:55:35.838Z"
   },
   {
    "duration": 4,
    "start_time": "2025-04-27T22:55:35.845Z"
   },
   {
    "duration": 7,
    "start_time": "2025-04-27T22:55:35.886Z"
   },
   {
    "duration": 5,
    "start_time": "2025-04-27T22:55:35.895Z"
   },
   {
    "duration": 10,
    "start_time": "2025-04-27T22:55:35.902Z"
   },
   {
    "duration": 181,
    "start_time": "2025-04-27T22:55:35.913Z"
   },
   {
    "duration": 372,
    "start_time": "2025-04-27T22:55:48.943Z"
   },
   {
    "duration": 269,
    "start_time": "2025-04-27T22:56:17.636Z"
   },
   {
    "duration": 18,
    "start_time": "2025-04-27T22:56:26.903Z"
   },
   {
    "duration": 377,
    "start_time": "2025-04-27T22:57:18.806Z"
   },
   {
    "duration": 121,
    "start_time": "2025-04-27T22:57:40.518Z"
   },
   {
    "duration": 119,
    "start_time": "2025-04-27T22:58:01.105Z"
   },
   {
    "duration": 128,
    "start_time": "2025-04-27T22:58:06.914Z"
   },
   {
    "duration": 13424,
    "start_time": "2025-04-27T22:59:26.319Z"
   },
   {
    "duration": 313,
    "start_time": "2025-04-27T22:59:39.745Z"
   },
   {
    "duration": 259,
    "start_time": "2025-04-27T22:59:40.062Z"
   },
   {
    "duration": 292,
    "start_time": "2025-04-27T22:59:49.074Z"
   },
   {
    "duration": 16,
    "start_time": "2025-04-27T23:00:05.411Z"
   },
   {
    "duration": 21,
    "start_time": "2025-04-27T23:00:06.578Z"
   },
   {
    "duration": 19,
    "start_time": "2025-04-27T23:01:21.158Z"
   },
   {
    "duration": 19,
    "start_time": "2025-04-27T23:01:35.443Z"
   },
   {
    "duration": 22,
    "start_time": "2025-04-27T23:02:00.981Z"
   },
   {
    "duration": 126,
    "start_time": "2025-04-27T23:03:38.681Z"
   },
   {
    "duration": 128,
    "start_time": "2025-04-27T23:04:15.027Z"
   },
   {
    "duration": 12934,
    "start_time": "2025-04-27T23:04:30.739Z"
   },
   {
    "duration": 136,
    "start_time": "2025-04-27T23:05:34.382Z"
   },
   {
    "duration": 13,
    "start_time": "2025-04-27T23:30:37.534Z"
   },
   {
    "duration": 804,
    "start_time": "2025-04-27T23:33:15.105Z"
   },
   {
    "duration": 34,
    "start_time": "2025-04-27T23:33:15.912Z"
   },
   {
    "duration": 23,
    "start_time": "2025-04-27T23:33:15.948Z"
   },
   {
    "duration": 5,
    "start_time": "2025-04-27T23:33:15.987Z"
   },
   {
    "duration": 9,
    "start_time": "2025-04-27T23:33:15.995Z"
   },
   {
    "duration": 5,
    "start_time": "2025-04-27T23:33:16.006Z"
   },
   {
    "duration": 4,
    "start_time": "2025-04-27T23:33:16.012Z"
   },
   {
    "duration": 5,
    "start_time": "2025-04-27T23:33:16.018Z"
   },
   {
    "duration": 5,
    "start_time": "2025-04-27T23:33:16.024Z"
   },
   {
    "duration": 6,
    "start_time": "2025-04-27T23:33:16.032Z"
   },
   {
    "duration": 5,
    "start_time": "2025-04-27T23:33:16.040Z"
   },
   {
    "duration": 42,
    "start_time": "2025-04-27T23:33:16.047Z"
   },
   {
    "duration": 11,
    "start_time": "2025-04-27T23:33:16.091Z"
   },
   {
    "duration": 183,
    "start_time": "2025-04-27T23:33:16.105Z"
   },
   {
    "duration": 416,
    "start_time": "2025-04-27T23:33:16.290Z"
   },
   {
    "duration": 299,
    "start_time": "2025-04-27T23:33:16.708Z"
   },
   {
    "duration": 29,
    "start_time": "2025-04-27T23:33:17.010Z"
   },
   {
    "duration": 458,
    "start_time": "2025-04-27T23:33:17.041Z"
   },
   {
    "duration": 130,
    "start_time": "2025-04-27T23:33:17.500Z"
   },
   {
    "duration": 145,
    "start_time": "2025-04-27T23:33:17.632Z"
   },
   {
    "duration": 13281,
    "start_time": "2025-04-27T23:33:17.787Z"
   },
   {
    "duration": 351,
    "start_time": "2025-04-27T23:33:31.070Z"
   },
   {
    "duration": 215,
    "start_time": "2025-04-27T23:33:31.423Z"
   },
   {
    "duration": 304,
    "start_time": "2025-04-27T23:33:31.641Z"
   },
   {
    "duration": 14,
    "start_time": "2025-04-27T23:33:31.949Z"
   },
   {
    "duration": 31,
    "start_time": "2025-04-27T23:33:31.965Z"
   },
   {
    "duration": 8,
    "start_time": "2025-04-28T03:57:20.688Z"
   },
   {
    "duration": 158,
    "start_time": "2025-04-28T04:04:58.651Z"
   },
   {
    "duration": 2487,
    "start_time": "2025-04-28T04:05:36.411Z"
   },
   {
    "duration": 35,
    "start_time": "2025-04-28T04:05:38.900Z"
   },
   {
    "duration": 17,
    "start_time": "2025-04-28T04:05:38.936Z"
   },
   {
    "duration": 3,
    "start_time": "2025-04-28T04:05:38.956Z"
   },
   {
    "duration": 13,
    "start_time": "2025-04-28T04:05:38.961Z"
   },
   {
    "duration": 5,
    "start_time": "2025-04-28T04:05:38.976Z"
   },
   {
    "duration": 5,
    "start_time": "2025-04-28T04:05:38.983Z"
   },
   {
    "duration": 6,
    "start_time": "2025-04-28T04:05:38.989Z"
   },
   {
    "duration": 4,
    "start_time": "2025-04-28T04:05:38.996Z"
   },
   {
    "duration": 6,
    "start_time": "2025-04-28T04:05:39.002Z"
   },
   {
    "duration": 5,
    "start_time": "2025-04-28T04:05:39.009Z"
   },
   {
    "duration": 5,
    "start_time": "2025-04-28T04:05:39.015Z"
   },
   {
    "duration": 54,
    "start_time": "2025-04-28T04:05:39.021Z"
   },
   {
    "duration": 155,
    "start_time": "2025-04-28T04:05:39.079Z"
   },
   {
    "duration": 360,
    "start_time": "2025-04-28T04:05:39.236Z"
   },
   {
    "duration": 228,
    "start_time": "2025-04-28T04:05:39.598Z"
   },
   {
    "duration": 18,
    "start_time": "2025-04-28T04:05:39.828Z"
   },
   {
    "duration": 437,
    "start_time": "2025-04-28T04:05:39.848Z"
   },
   {
    "duration": 124,
    "start_time": "2025-04-28T04:05:40.287Z"
   },
   {
    "duration": 133,
    "start_time": "2025-04-28T04:05:40.412Z"
   },
   {
    "duration": 12289,
    "start_time": "2025-04-28T04:05:40.547Z"
   },
   {
    "duration": 188,
    "start_time": "2025-04-28T04:05:52.838Z"
   },
   {
    "duration": 198,
    "start_time": "2025-04-28T04:05:53.028Z"
   },
   {
    "duration": 319,
    "start_time": "2025-04-28T04:05:53.229Z"
   },
   {
    "duration": 26,
    "start_time": "2025-04-28T04:05:53.550Z"
   },
   {
    "duration": 19,
    "start_time": "2025-04-28T04:05:53.577Z"
   },
   {
    "duration": 136,
    "start_time": "2025-04-28T04:07:06.004Z"
   },
   {
    "duration": 294,
    "start_time": "2025-04-28T04:09:16.717Z"
   },
   {
    "duration": 800,
    "start_time": "2025-04-28T04:11:22.560Z"
   },
   {
    "duration": 25,
    "start_time": "2025-04-28T04:11:23.362Z"
   },
   {
    "duration": 17,
    "start_time": "2025-04-28T04:11:23.389Z"
   },
   {
    "duration": 3,
    "start_time": "2025-04-28T04:11:23.408Z"
   },
   {
    "duration": 8,
    "start_time": "2025-04-28T04:11:23.414Z"
   },
   {
    "duration": 5,
    "start_time": "2025-04-28T04:11:23.424Z"
   },
   {
    "duration": 5,
    "start_time": "2025-04-28T04:11:23.431Z"
   },
   {
    "duration": 6,
    "start_time": "2025-04-28T04:11:23.470Z"
   },
   {
    "duration": 4,
    "start_time": "2025-04-28T04:11:23.478Z"
   },
   {
    "duration": 7,
    "start_time": "2025-04-28T04:11:23.484Z"
   },
   {
    "duration": 5,
    "start_time": "2025-04-28T04:11:23.492Z"
   },
   {
    "duration": 6,
    "start_time": "2025-04-28T04:11:23.499Z"
   },
   {
    "duration": 10,
    "start_time": "2025-04-28T04:11:23.506Z"
   },
   {
    "duration": 190,
    "start_time": "2025-04-28T04:11:23.520Z"
   },
   {
    "duration": 380,
    "start_time": "2025-04-28T04:11:23.712Z"
   },
   {
    "duration": 290,
    "start_time": "2025-04-28T04:11:24.094Z"
   },
   {
    "duration": 19,
    "start_time": "2025-04-28T04:11:24.387Z"
   },
   {
    "duration": 376,
    "start_time": "2025-04-28T04:11:24.408Z"
   },
   {
    "duration": 128,
    "start_time": "2025-04-28T04:11:24.785Z"
   },
   {
    "duration": 139,
    "start_time": "2025-04-28T04:11:24.915Z"
   },
   {
    "duration": 12596,
    "start_time": "2025-04-28T04:11:25.057Z"
   },
   {
    "duration": 273,
    "start_time": "2025-04-28T04:11:37.655Z"
   },
   {
    "duration": 193,
    "start_time": "2025-04-28T04:11:37.930Z"
   },
   {
    "duration": 319,
    "start_time": "2025-04-28T04:11:38.124Z"
   },
   {
    "duration": 25,
    "start_time": "2025-04-28T04:11:38.445Z"
   },
   {
    "duration": 20,
    "start_time": "2025-04-28T04:11:38.472Z"
   },
   {
    "duration": 3,
    "start_time": "2025-04-28T04:27:35.683Z"
   },
   {
    "duration": 374,
    "start_time": "2025-04-28T04:29:20.916Z"
   },
   {
    "duration": 386,
    "start_time": "2025-04-28T04:36:25.630Z"
   },
   {
    "duration": 474,
    "start_time": "2025-04-28T04:36:45.847Z"
   },
   {
    "duration": 687,
    "start_time": "2025-04-28T04:37:09.855Z"
   },
   {
    "duration": 699,
    "start_time": "2025-04-28T04:42:11.106Z"
   },
   {
    "duration": 120,
    "start_time": "2025-04-28T04:52:34.292Z"
   },
   {
    "duration": 126,
    "start_time": "2025-04-28T04:52:39.410Z"
   },
   {
    "duration": 12,
    "start_time": "2025-04-28T05:52:04.513Z"
   },
   {
    "duration": 219,
    "start_time": "2025-04-28T05:52:11.622Z"
   },
   {
    "duration": 811,
    "start_time": "2025-04-28T05:52:20.946Z"
   },
   {
    "duration": 28,
    "start_time": "2025-04-28T05:52:21.760Z"
   },
   {
    "duration": 17,
    "start_time": "2025-04-28T05:52:21.789Z"
   },
   {
    "duration": 3,
    "start_time": "2025-04-28T05:52:21.808Z"
   },
   {
    "duration": 8,
    "start_time": "2025-04-28T05:52:21.813Z"
   },
   {
    "duration": 5,
    "start_time": "2025-04-28T05:52:21.822Z"
   },
   {
    "duration": 4,
    "start_time": "2025-04-28T05:52:21.829Z"
   },
   {
    "duration": 5,
    "start_time": "2025-04-28T05:52:21.834Z"
   },
   {
    "duration": 4,
    "start_time": "2025-04-28T05:52:21.871Z"
   },
   {
    "duration": 7,
    "start_time": "2025-04-28T05:52:21.876Z"
   },
   {
    "duration": 5,
    "start_time": "2025-04-28T05:52:21.885Z"
   },
   {
    "duration": 5,
    "start_time": "2025-04-28T05:52:21.891Z"
   },
   {
    "duration": 11,
    "start_time": "2025-04-28T05:52:21.897Z"
   },
   {
    "duration": 181,
    "start_time": "2025-04-28T05:52:21.911Z"
   },
   {
    "duration": 7,
    "start_time": "2025-04-28T05:52:22.094Z"
   },
   {
    "duration": 0,
    "start_time": "2025-04-28T05:52:22.103Z"
   },
   {
    "duration": 0,
    "start_time": "2025-04-28T05:52:22.105Z"
   },
   {
    "duration": 0,
    "start_time": "2025-04-28T05:52:22.106Z"
   },
   {
    "duration": 0,
    "start_time": "2025-04-28T05:52:22.108Z"
   },
   {
    "duration": 0,
    "start_time": "2025-04-28T05:52:22.109Z"
   },
   {
    "duration": 0,
    "start_time": "2025-04-28T05:52:22.111Z"
   },
   {
    "duration": 0,
    "start_time": "2025-04-28T05:52:22.112Z"
   },
   {
    "duration": 0,
    "start_time": "2025-04-28T05:52:22.113Z"
   },
   {
    "duration": 0,
    "start_time": "2025-04-28T05:52:22.115Z"
   },
   {
    "duration": 0,
    "start_time": "2025-04-28T05:52:22.116Z"
   },
   {
    "duration": 0,
    "start_time": "2025-04-28T05:52:22.117Z"
   },
   {
    "duration": 0,
    "start_time": "2025-04-28T05:52:22.118Z"
   },
   {
    "duration": 373,
    "start_time": "2025-04-28T05:53:08.504Z"
   },
   {
    "duration": 2,
    "start_time": "2025-04-28T05:53:15.069Z"
   },
   {
    "duration": 22,
    "start_time": "2025-04-28T05:53:15.076Z"
   },
   {
    "duration": 15,
    "start_time": "2025-04-28T05:53:15.100Z"
   },
   {
    "duration": 3,
    "start_time": "2025-04-28T05:53:15.117Z"
   },
   {
    "duration": 7,
    "start_time": "2025-04-28T05:53:15.122Z"
   },
   {
    "duration": 5,
    "start_time": "2025-04-28T05:53:15.132Z"
   },
   {
    "duration": 36,
    "start_time": "2025-04-28T05:53:15.138Z"
   },
   {
    "duration": 6,
    "start_time": "2025-04-28T05:53:15.175Z"
   },
   {
    "duration": 9,
    "start_time": "2025-04-28T05:53:15.183Z"
   },
   {
    "duration": 6,
    "start_time": "2025-04-28T05:53:15.194Z"
   },
   {
    "duration": 6,
    "start_time": "2025-04-28T05:53:15.202Z"
   },
   {
    "duration": 5,
    "start_time": "2025-04-28T05:53:15.209Z"
   },
   {
    "duration": 96,
    "start_time": "2025-04-28T05:53:15.215Z"
   },
   {
    "duration": 152,
    "start_time": "2025-04-28T05:53:15.313Z"
   },
   {
    "duration": 346,
    "start_time": "2025-04-28T05:53:15.471Z"
   },
   {
    "duration": 211,
    "start_time": "2025-04-28T05:53:15.819Z"
   },
   {
    "duration": 19,
    "start_time": "2025-04-28T05:53:16.032Z"
   },
   {
    "duration": 758,
    "start_time": "2025-04-28T05:53:16.052Z"
   },
   {
    "duration": 128,
    "start_time": "2025-04-28T05:53:16.812Z"
   },
   {
    "duration": 139,
    "start_time": "2025-04-28T05:53:16.941Z"
   },
   {
    "duration": 12453,
    "start_time": "2025-04-28T05:53:17.082Z"
   },
   {
    "duration": 199,
    "start_time": "2025-04-28T05:53:29.536Z"
   },
   {
    "duration": 190,
    "start_time": "2025-04-28T05:53:29.737Z"
   },
   {
    "duration": 317,
    "start_time": "2025-04-28T05:53:29.929Z"
   },
   {
    "duration": 26,
    "start_time": "2025-04-28T05:53:30.248Z"
   },
   {
    "duration": 12,
    "start_time": "2025-04-28T05:53:30.277Z"
   },
   {
    "duration": 299,
    "start_time": "2025-04-28T05:53:30.291Z"
   },
   {
    "duration": 13,
    "start_time": "2025-04-28T05:53:40.795Z"
   },
   {
    "duration": 13,
    "start_time": "2025-04-28T05:53:51.830Z"
   },
   {
    "duration": 5,
    "start_time": "2025-04-28T05:54:33.465Z"
   },
   {
    "duration": 4,
    "start_time": "2025-04-28T05:54:49.655Z"
   },
   {
    "duration": 4,
    "start_time": "2025-04-28T05:54:56.583Z"
   },
   {
    "duration": 12,
    "start_time": "2025-04-28T05:55:01.998Z"
   },
   {
    "duration": 385,
    "start_time": "2025-04-28T05:56:33.163Z"
   },
   {
    "duration": 9,
    "start_time": "2025-04-28T05:56:48.859Z"
   },
   {
    "duration": 9,
    "start_time": "2025-04-28T05:57:08.406Z"
   },
   {
    "duration": 11,
    "start_time": "2025-04-28T05:59:10.172Z"
   },
   {
    "duration": 21,
    "start_time": "2025-04-28T06:01:37.955Z"
   },
   {
    "duration": 256,
    "start_time": "2025-04-28T06:03:18.094Z"
   },
   {
    "duration": 14,
    "start_time": "2025-04-28T06:04:41.994Z"
   },
   {
    "duration": 7,
    "start_time": "2025-04-28T06:04:56.207Z"
   },
   {
    "duration": 12,
    "start_time": "2025-04-28T06:07:03.096Z"
   },
   {
    "duration": 792,
    "start_time": "2025-04-28T06:07:11.772Z"
   },
   {
    "duration": 25,
    "start_time": "2025-04-28T06:07:12.566Z"
   },
   {
    "duration": 18,
    "start_time": "2025-04-28T06:07:12.592Z"
   },
   {
    "duration": 3,
    "start_time": "2025-04-28T06:07:12.612Z"
   },
   {
    "duration": 8,
    "start_time": "2025-04-28T06:07:12.618Z"
   },
   {
    "duration": 5,
    "start_time": "2025-04-28T06:07:12.627Z"
   },
   {
    "duration": 4,
    "start_time": "2025-04-28T06:07:12.633Z"
   },
   {
    "duration": 34,
    "start_time": "2025-04-28T06:07:12.639Z"
   },
   {
    "duration": 4,
    "start_time": "2025-04-28T06:07:12.675Z"
   },
   {
    "duration": 6,
    "start_time": "2025-04-28T06:07:12.681Z"
   },
   {
    "duration": 5,
    "start_time": "2025-04-28T06:07:12.689Z"
   },
   {
    "duration": 4,
    "start_time": "2025-04-28T06:07:12.695Z"
   },
   {
    "duration": 10,
    "start_time": "2025-04-28T06:07:12.701Z"
   },
   {
    "duration": 186,
    "start_time": "2025-04-28T06:07:12.715Z"
   },
   {
    "duration": 383,
    "start_time": "2025-04-28T06:07:12.903Z"
   },
   {
    "duration": 268,
    "start_time": "2025-04-28T06:07:13.288Z"
   },
   {
    "duration": 19,
    "start_time": "2025-04-28T06:07:13.558Z"
   },
   {
    "duration": 748,
    "start_time": "2025-04-28T06:07:13.578Z"
   },
   {
    "duration": 128,
    "start_time": "2025-04-28T06:07:14.328Z"
   },
   {
    "duration": 144,
    "start_time": "2025-04-28T06:07:14.458Z"
   },
   {
    "duration": 12348,
    "start_time": "2025-04-28T06:07:14.604Z"
   },
   {
    "duration": 276,
    "start_time": "2025-04-28T06:07:26.954Z"
   },
   {
    "duration": 201,
    "start_time": "2025-04-28T06:07:27.231Z"
   },
   {
    "duration": 310,
    "start_time": "2025-04-28T06:07:27.434Z"
   },
   {
    "duration": 25,
    "start_time": "2025-04-28T06:07:27.746Z"
   },
   {
    "duration": 19,
    "start_time": "2025-04-28T06:07:27.773Z"
   },
   {
    "duration": 11,
    "start_time": "2025-04-28T06:07:27.794Z"
   },
   {
    "duration": 10,
    "start_time": "2025-04-28T06:07:27.807Z"
   },
   {
    "duration": 13,
    "start_time": "2025-04-28T06:08:35.821Z"
   },
   {
    "duration": 12,
    "start_time": "2025-04-28T06:10:43.728Z"
   },
   {
    "duration": 822,
    "start_time": "2025-04-28T06:11:09.577Z"
   },
   {
    "duration": 24,
    "start_time": "2025-04-28T06:11:10.402Z"
   },
   {
    "duration": 17,
    "start_time": "2025-04-28T06:11:10.431Z"
   },
   {
    "duration": 22,
    "start_time": "2025-04-28T06:11:10.450Z"
   },
   {
    "duration": 7,
    "start_time": "2025-04-28T06:11:10.474Z"
   },
   {
    "duration": 5,
    "start_time": "2025-04-28T06:11:10.483Z"
   },
   {
    "duration": 4,
    "start_time": "2025-04-28T06:11:10.489Z"
   },
   {
    "duration": 6,
    "start_time": "2025-04-28T06:11:10.495Z"
   },
   {
    "duration": 5,
    "start_time": "2025-04-28T06:11:10.504Z"
   },
   {
    "duration": 6,
    "start_time": "2025-04-28T06:11:10.510Z"
   },
   {
    "duration": 5,
    "start_time": "2025-04-28T06:11:10.518Z"
   },
   {
    "duration": 48,
    "start_time": "2025-04-28T06:11:10.525Z"
   },
   {
    "duration": 11,
    "start_time": "2025-04-28T06:11:10.575Z"
   },
   {
    "duration": 163,
    "start_time": "2025-04-28T06:11:10.587Z"
   },
   {
    "duration": 341,
    "start_time": "2025-04-28T06:11:10.752Z"
   },
   {
    "duration": 271,
    "start_time": "2025-04-28T06:11:11.095Z"
   },
   {
    "duration": 22,
    "start_time": "2025-04-28T06:11:11.368Z"
   },
   {
    "duration": 710,
    "start_time": "2025-04-28T06:11:11.392Z"
   },
   {
    "duration": 130,
    "start_time": "2025-04-28T06:11:12.104Z"
   },
   {
    "duration": 146,
    "start_time": "2025-04-28T06:11:12.237Z"
   },
   {
    "duration": 12518,
    "start_time": "2025-04-28T06:11:12.385Z"
   },
   {
    "duration": 267,
    "start_time": "2025-04-28T06:11:24.904Z"
   },
   {
    "duration": 228,
    "start_time": "2025-04-28T06:11:25.174Z"
   },
   {
    "duration": 266,
    "start_time": "2025-04-28T06:11:25.404Z"
   },
   {
    "duration": 14,
    "start_time": "2025-04-28T06:11:25.672Z"
   },
   {
    "duration": 20,
    "start_time": "2025-04-28T06:11:25.687Z"
   },
   {
    "duration": 11,
    "start_time": "2025-04-28T06:11:25.711Z"
   },
   {
    "duration": 11,
    "start_time": "2025-04-28T06:11:25.724Z"
   },
   {
    "duration": 13,
    "start_time": "2025-04-28T06:13:19.287Z"
   },
   {
    "duration": 11,
    "start_time": "2025-04-28T06:13:40.708Z"
   },
   {
    "duration": 230,
    "start_time": "2025-04-28T06:13:52.068Z"
   },
   {
    "duration": 10,
    "start_time": "2025-04-28T06:13:55.341Z"
   },
   {
    "duration": 20,
    "start_time": "2025-04-28T06:14:40.479Z"
   },
   {
    "duration": 12,
    "start_time": "2025-04-28T06:14:59.327Z"
   },
   {
    "duration": 12,
    "start_time": "2025-04-28T06:19:00.815Z"
   },
   {
    "duration": 252,
    "start_time": "2025-04-28T19:16:52.479Z"
   },
   {
    "duration": 18,
    "start_time": "2025-04-28T19:16:57.522Z"
   },
   {
    "duration": 3628,
    "start_time": "2025-04-28T19:17:14.290Z"
   },
   {
    "duration": 46,
    "start_time": "2025-04-28T19:17:17.924Z"
   },
   {
    "duration": 22,
    "start_time": "2025-04-28T19:17:17.972Z"
   },
   {
    "duration": 3,
    "start_time": "2025-04-28T19:17:17.996Z"
   },
   {
    "duration": 9,
    "start_time": "2025-04-28T19:17:18.002Z"
   },
   {
    "duration": 12,
    "start_time": "2025-04-28T19:17:18.013Z"
   },
   {
    "duration": 4,
    "start_time": "2025-04-28T19:17:18.027Z"
   },
   {
    "duration": 5,
    "start_time": "2025-04-28T19:17:18.033Z"
   },
   {
    "duration": 4,
    "start_time": "2025-04-28T19:17:18.040Z"
   },
   {
    "duration": 8,
    "start_time": "2025-04-28T19:17:18.046Z"
   },
   {
    "duration": 5,
    "start_time": "2025-04-28T19:17:18.056Z"
   },
   {
    "duration": 5,
    "start_time": "2025-04-28T19:17:18.063Z"
   },
   {
    "duration": 12,
    "start_time": "2025-04-28T19:17:18.069Z"
   },
   {
    "duration": 226,
    "start_time": "2025-04-28T19:17:18.084Z"
   },
   {
    "duration": 439,
    "start_time": "2025-04-28T19:17:18.312Z"
   },
   {
    "duration": 267,
    "start_time": "2025-04-28T19:17:18.753Z"
   },
   {
    "duration": 22,
    "start_time": "2025-04-28T19:17:19.022Z"
   },
   {
    "duration": 998,
    "start_time": "2025-04-28T19:17:19.046Z"
   },
   {
    "duration": 151,
    "start_time": "2025-04-28T19:17:20.046Z"
   },
   {
    "duration": 176,
    "start_time": "2025-04-28T19:17:20.199Z"
   },
   {
    "duration": 14255,
    "start_time": "2025-04-28T19:17:20.377Z"
   },
   {
    "duration": 295,
    "start_time": "2025-04-28T19:17:34.634Z"
   },
   {
    "duration": 269,
    "start_time": "2025-04-28T19:17:34.931Z"
   },
   {
    "duration": 313,
    "start_time": "2025-04-28T19:17:35.205Z"
   },
   {
    "duration": 14,
    "start_time": "2025-04-28T19:17:35.520Z"
   },
   {
    "duration": 24,
    "start_time": "2025-04-28T19:17:35.536Z"
   },
   {
    "duration": 14,
    "start_time": "2025-04-28T19:17:35.561Z"
   },
   {
    "duration": 13,
    "start_time": "2025-04-28T19:17:35.577Z"
   },
   {
    "duration": 14,
    "start_time": "2025-04-28T19:29:58.280Z"
   },
   {
    "duration": 231,
    "start_time": "2025-04-29T01:18:45.755Z"
   },
   {
    "duration": 2,
    "start_time": "2025-04-29T01:19:00.096Z"
   },
   {
    "duration": 8,
    "start_time": "2025-04-29T01:19:05.831Z"
   },
   {
    "duration": 8,
    "start_time": "2025-04-29T01:19:07.921Z"
   },
   {
    "duration": 14,
    "start_time": "2025-04-29T03:40:28.559Z"
   },
   {
    "duration": 798,
    "start_time": "2025-04-29T04:03:54.375Z"
   },
   {
    "duration": 41,
    "start_time": "2025-04-29T04:03:55.175Z"
   },
   {
    "duration": 23,
    "start_time": "2025-04-29T04:03:55.218Z"
   },
   {
    "duration": 5,
    "start_time": "2025-04-29T04:03:55.243Z"
   },
   {
    "duration": 8,
    "start_time": "2025-04-29T04:03:55.251Z"
   },
   {
    "duration": 5,
    "start_time": "2025-04-29T04:03:55.260Z"
   },
   {
    "duration": 5,
    "start_time": "2025-04-29T04:03:55.266Z"
   },
   {
    "duration": 5,
    "start_time": "2025-04-29T04:03:55.272Z"
   },
   {
    "duration": 4,
    "start_time": "2025-04-29T04:03:55.279Z"
   },
   {
    "duration": 44,
    "start_time": "2025-04-29T04:03:55.285Z"
   },
   {
    "duration": 5,
    "start_time": "2025-04-29T04:03:55.331Z"
   },
   {
    "duration": 5,
    "start_time": "2025-04-29T04:03:55.338Z"
   },
   {
    "duration": 11,
    "start_time": "2025-04-29T04:03:55.344Z"
   },
   {
    "duration": 176,
    "start_time": "2025-04-29T04:03:55.358Z"
   },
   {
    "duration": 366,
    "start_time": "2025-04-29T04:03:55.536Z"
   },
   {
    "duration": 301,
    "start_time": "2025-04-29T04:03:55.904Z"
   },
   {
    "duration": 14,
    "start_time": "2025-04-29T04:03:56.207Z"
   },
   {
    "duration": 684,
    "start_time": "2025-04-29T04:03:56.222Z"
   },
   {
    "duration": 130,
    "start_time": "2025-04-29T04:03:56.907Z"
   },
   {
    "duration": 138,
    "start_time": "2025-04-29T04:03:57.039Z"
   },
   {
    "duration": 12645,
    "start_time": "2025-04-29T04:03:57.179Z"
   },
   {
    "duration": 276,
    "start_time": "2025-04-29T04:04:09.826Z"
   },
   {
    "duration": 252,
    "start_time": "2025-04-29T04:04:10.104Z"
   },
   {
    "duration": 269,
    "start_time": "2025-04-29T04:04:10.357Z"
   },
   {
    "duration": 5,
    "start_time": "2025-04-29T04:04:10.628Z"
   },
   {
    "duration": 20,
    "start_time": "2025-04-29T04:04:10.635Z"
   },
   {
    "duration": 10,
    "start_time": "2025-04-29T04:04:10.657Z"
   },
   {
    "duration": 11,
    "start_time": "2025-04-29T04:04:10.669Z"
   },
   {
    "duration": 42,
    "start_time": "2025-04-29T04:04:10.682Z"
   },
   {
    "duration": 7,
    "start_time": "2025-04-29T04:04:10.728Z"
   },
   {
    "duration": 123,
    "start_time": "2025-04-29T04:04:56.441Z"
   },
   {
    "duration": 127,
    "start_time": "2025-04-29T04:05:03.961Z"
   },
   {
    "duration": 167,
    "start_time": "2025-04-29T05:28:31.428Z"
   },
   {
    "duration": 2723,
    "start_time": "2025-04-29T05:29:16.294Z"
   },
   {
    "duration": 44,
    "start_time": "2025-04-29T05:29:19.020Z"
   },
   {
    "duration": 24,
    "start_time": "2025-04-29T05:29:19.066Z"
   },
   {
    "duration": 4,
    "start_time": "2025-04-29T05:29:19.096Z"
   },
   {
    "duration": 8,
    "start_time": "2025-04-29T05:29:19.102Z"
   },
   {
    "duration": 5,
    "start_time": "2025-04-29T05:29:19.111Z"
   },
   {
    "duration": 26,
    "start_time": "2025-04-29T05:29:19.117Z"
   },
   {
    "duration": 7,
    "start_time": "2025-04-29T05:29:19.144Z"
   },
   {
    "duration": 5,
    "start_time": "2025-04-29T05:29:19.154Z"
   },
   {
    "duration": 9,
    "start_time": "2025-04-29T05:29:19.161Z"
   },
   {
    "duration": 6,
    "start_time": "2025-04-29T05:29:19.172Z"
   },
   {
    "duration": 5,
    "start_time": "2025-04-29T05:29:19.181Z"
   },
   {
    "duration": 14,
    "start_time": "2025-04-29T05:29:19.187Z"
   },
   {
    "duration": 228,
    "start_time": "2025-04-29T05:29:19.205Z"
   },
   {
    "duration": 392,
    "start_time": "2025-04-29T05:29:19.442Z"
   },
   {
    "duration": 251,
    "start_time": "2025-04-29T05:29:19.836Z"
   },
   {
    "duration": 15,
    "start_time": "2025-04-29T05:29:20.089Z"
   },
   {
    "duration": 851,
    "start_time": "2025-04-29T05:29:20.105Z"
   },
   {
    "duration": 131,
    "start_time": "2025-04-29T05:29:20.958Z"
   },
   {
    "duration": 171,
    "start_time": "2025-04-29T05:29:21.094Z"
   },
   {
    "duration": 12699,
    "start_time": "2025-04-29T05:29:21.267Z"
   },
   {
    "duration": 207,
    "start_time": "2025-04-29T05:29:33.967Z"
   },
   {
    "duration": 217,
    "start_time": "2025-04-29T05:29:34.176Z"
   },
   {
    "duration": 310,
    "start_time": "2025-04-29T05:29:34.397Z"
   },
   {
    "duration": 7,
    "start_time": "2025-04-29T05:29:34.709Z"
   },
   {
    "duration": 373,
    "start_time": "2025-04-29T05:29:34.717Z"
   },
   {
    "duration": 0,
    "start_time": "2025-04-29T05:29:35.092Z"
   },
   {
    "duration": 0,
    "start_time": "2025-04-29T05:29:35.093Z"
   },
   {
    "duration": 0,
    "start_time": "2025-04-29T05:29:35.094Z"
   },
   {
    "duration": 0,
    "start_time": "2025-04-29T05:29:35.096Z"
   },
   {
    "duration": 20,
    "start_time": "2025-04-29T05:29:45.874Z"
   },
   {
    "duration": 12,
    "start_time": "2025-04-29T05:29:53.503Z"
   },
   {
    "duration": 13,
    "start_time": "2025-04-29T05:29:53.938Z"
   },
   {
    "duration": 9,
    "start_time": "2025-04-29T05:29:54.578Z"
   },
   {
    "duration": 12,
    "start_time": "2025-04-29T05:29:55.094Z"
   },
   {
    "duration": 139,
    "start_time": "2025-04-29T06:02:27.524Z"
   },
   {
    "duration": 140,
    "start_time": "2025-04-29T06:02:53.996Z"
   },
   {
    "duration": 885,
    "start_time": "2025-04-29T06:04:21.585Z"
   },
   {
    "duration": 27,
    "start_time": "2025-04-29T06:04:22.472Z"
   },
   {
    "duration": 18,
    "start_time": "2025-04-29T06:04:22.501Z"
   },
   {
    "duration": 22,
    "start_time": "2025-04-29T06:04:22.521Z"
   },
   {
    "duration": 10,
    "start_time": "2025-04-29T06:04:22.545Z"
   },
   {
    "duration": 6,
    "start_time": "2025-04-29T06:04:22.557Z"
   },
   {
    "duration": 5,
    "start_time": "2025-04-29T06:04:22.565Z"
   },
   {
    "duration": 5,
    "start_time": "2025-04-29T06:04:22.572Z"
   },
   {
    "duration": 4,
    "start_time": "2025-04-29T06:04:22.579Z"
   },
   {
    "duration": 6,
    "start_time": "2025-04-29T06:04:22.587Z"
   },
   {
    "duration": 47,
    "start_time": "2025-04-29T06:04:22.595Z"
   },
   {
    "duration": 6,
    "start_time": "2025-04-29T06:04:22.644Z"
   },
   {
    "duration": 12,
    "start_time": "2025-04-29T06:04:22.652Z"
   },
   {
    "duration": 213,
    "start_time": "2025-04-29T06:04:22.666Z"
   },
   {
    "duration": 392,
    "start_time": "2025-04-29T06:04:22.881Z"
   },
   {
    "duration": 308,
    "start_time": "2025-04-29T06:04:23.275Z"
   },
   {
    "duration": 18,
    "start_time": "2025-04-29T06:04:23.586Z"
   },
   {
    "duration": 765,
    "start_time": "2025-04-29T06:04:23.606Z"
   },
   {
    "duration": 144,
    "start_time": "2025-04-29T06:04:24.373Z"
   },
   {
    "duration": 155,
    "start_time": "2025-04-29T06:04:24.520Z"
   },
   {
    "duration": 13066,
    "start_time": "2025-04-29T06:04:24.677Z"
   },
   {
    "duration": 316,
    "start_time": "2025-04-29T06:04:37.744Z"
   },
   {
    "duration": 236,
    "start_time": "2025-04-29T06:04:38.061Z"
   },
   {
    "duration": 320,
    "start_time": "2025-04-29T06:04:38.299Z"
   },
   {
    "duration": 24,
    "start_time": "2025-04-29T06:04:38.621Z"
   },
   {
    "duration": 21,
    "start_time": "2025-04-29T06:04:38.647Z"
   },
   {
    "duration": 13,
    "start_time": "2025-04-29T06:04:38.670Z"
   },
   {
    "duration": 13,
    "start_time": "2025-04-29T06:04:38.686Z"
   },
   {
    "duration": 9,
    "start_time": "2025-04-29T06:04:38.700Z"
   },
   {
    "duration": 34,
    "start_time": "2025-04-29T06:04:38.710Z"
   },
   {
    "duration": 2483,
    "start_time": "2025-04-29T06:13:00.194Z"
   },
   {
    "duration": 36,
    "start_time": "2025-04-29T06:13:02.680Z"
   },
   {
    "duration": 17,
    "start_time": "2025-04-29T06:13:02.718Z"
   },
   {
    "duration": 3,
    "start_time": "2025-04-29T06:13:02.738Z"
   },
   {
    "duration": 9,
    "start_time": "2025-04-29T06:13:02.742Z"
   },
   {
    "duration": 7,
    "start_time": "2025-04-29T06:13:02.752Z"
   },
   {
    "duration": 5,
    "start_time": "2025-04-29T06:13:02.762Z"
   },
   {
    "duration": 5,
    "start_time": "2025-04-29T06:13:03.363Z"
   },
   {
    "duration": 4,
    "start_time": "2025-04-29T06:13:04.032Z"
   },
   {
    "duration": 7,
    "start_time": "2025-04-29T06:13:05.055Z"
   },
   {
    "duration": 5,
    "start_time": "2025-04-29T06:13:06.015Z"
   },
   {
    "duration": 57,
    "start_time": "2025-04-29T06:13:07.015Z"
   },
   {
    "duration": 10,
    "start_time": "2025-04-29T06:13:07.349Z"
   },
   {
    "duration": 149,
    "start_time": "2025-04-29T06:13:08.385Z"
   },
   {
    "duration": 354,
    "start_time": "2025-04-29T06:13:09.041Z"
   },
   {
    "duration": 191,
    "start_time": "2025-04-29T06:13:09.673Z"
   },
   {
    "duration": 15,
    "start_time": "2025-04-29T06:13:10.585Z"
   },
   {
    "duration": 737,
    "start_time": "2025-04-29T06:13:12.146Z"
   },
   {
    "duration": 121,
    "start_time": "2025-04-29T06:13:13.082Z"
   },
   {
    "duration": 126,
    "start_time": "2025-04-29T06:13:13.358Z"
   },
   {
    "duration": 12374,
    "start_time": "2025-04-29T06:13:14.301Z"
   },
   {
    "duration": 263,
    "start_time": "2025-04-29T06:13:26.677Z"
   },
   {
    "duration": 232,
    "start_time": "2025-04-29T06:13:26.942Z"
   },
   {
    "duration": 280,
    "start_time": "2025-04-29T06:13:27.177Z"
   },
   {
    "duration": 5,
    "start_time": "2025-04-29T06:13:27.459Z"
   },
   {
    "duration": 19,
    "start_time": "2025-04-29T06:13:27.466Z"
   },
   {
    "duration": 12,
    "start_time": "2025-04-29T06:13:27.486Z"
   },
   {
    "duration": 34,
    "start_time": "2025-04-29T06:13:27.499Z"
   },
   {
    "duration": 7,
    "start_time": "2025-04-29T06:13:27.534Z"
   },
   {
    "duration": 7,
    "start_time": "2025-04-29T06:13:27.544Z"
   },
   {
    "duration": 8,
    "start_time": "2025-04-30T00:54:33.207Z"
   }
  ],
  "kernelspec": {
   "display_name": "base",
   "language": "python",
   "name": "python3"
  },
  "language_info": {
   "codemirror_mode": {
    "name": "ipython",
    "version": 3
   },
   "file_extension": ".py",
   "mimetype": "text/x-python",
   "name": "python",
   "nbconvert_exporter": "python",
   "pygments_lexer": "ipython3",
   "version": "3.12.7"
  },
  "toc": {
   "base_numbering": 1,
   "nav_menu": {},
   "number_sections": true,
   "sideBar": true,
   "skip_h1_title": true,
   "title_cell": "Table of Contents",
   "title_sidebar": "Contents",
   "toc_cell": false,
   "toc_position": {},
   "toc_section_display": true,
   "toc_window_display": false
  }
 },
 "nbformat": 4,
 "nbformat_minor": 2
}
